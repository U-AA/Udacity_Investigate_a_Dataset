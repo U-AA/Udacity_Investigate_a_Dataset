{
 "cells": [
  {
   "cell_type": "markdown",
   "metadata": {},
   "source": [
    "\n",
    "# Project: Investigate a Dataset - No Show Appointments Dataset\n",
    "\n",
    "## Table of Contents\n",
    "<ul>\n",
    "<li><a href=\"#intro\">Introduction</a></li>\n",
    "<li><a href=\"#wrangling\">Data Wrangling</a></li>\n",
    "<li><a href=\"#eda\">Exploratory Data Analysis</a></li>\n",
    "<li><a href=\"#conclusions\">Conclusions</a></li>\n",
    "</ul>"
   ]
  },
  {
   "cell_type": "markdown",
   "metadata": {},
   "source": [
    "<a id='intro'></a>\n",
    "## Introduction\n",
    "\n",
    "### Dataset Description \n",
    "\n",
    "The dataset (No Show Appointments dataset) is a collection of data gotten from Brazilian medical records showing medical appointments (up to 1105270) and 14 associating variables. \n",
    "\n",
    "The different variables represented in the data set include:\n",
    "\n",
    ">  **Patient ID:**  \n",
    "Shows the patients IDs (in numbers) for all appointments booked.\n",
    ">\n",
    ">  **AppointmentID:**  \n",
    "Gives record of the IDs assigned to patients after an appointment has been booked.\n",
    ">\n",
    ">  **Gender:**  \n",
    "This column specifies if the patient is a male or female.\n",
    ">\n",
    ">  **ScheduledDay:**  \n",
    "This column gives information on the day and time that the patient called/walked in to book/set up an appointment. This day should normally be before the AppointmentDay.\n",
    ">\n",
    ">  **AppointmentDay:**  \n",
    "A column showing the days appointed to the patients from the facility to come in for medical assistance.\n",
    ">\n",
    ">  **Age:**  \n",
    "Indicating how old the patient is. Ranging from babies to elderly people.\n",
    ">\n",
    ">  **Neighbourhood:**  \n",
    "The location of the hospital where the appointment was booked for.\n",
    ">\n",
    ">  **Scholarship:**  \n",
    "Indicates whether the patient is enrolled under the [Bolsa Família](https://en.wikipedia.org/wiki/Bolsa_Fam%C3%ADlia) scholarship which provides financial aid to poor Brazilian families. Represented in binary.\n",
    ">\n",
    ">  **Hipertension:**  \n",
    "Is the patient hypertensive or not? Also represented in binary.\n",
    ">\n",
    ">  **Diabetes:**  \n",
    "Information on the diabetic status of the patient.\n",
    ">\n",
    ">  **Alcoholism:**  \n",
    "Is the patient and alcoholic?\n",
    ">\n",
    ">  **Hancap:**  \n",
    "Does the patient have any disability?\n",
    ">\n",
    ">  **SMS_received:**  \n",
    "Gives information as to whether a patient was sent an SMS as a verification/reminder of the booked appointment.\n",
    ">\n",
    ">  **No-show:**  \n",
    "Appearing as **Yes** or **No**, where **No** means the patient showed up for the appointment, and **Yes** means the patient did not show up for the appointment."
   ]
  },
  {
   "cell_type": "markdown",
   "metadata": {},
   "source": [
    "\n",
    "### Question(s) for Analysis\n",
    "\n",
    "The main aim for this analysis is to investigate the important factors to consider in order to predict whether a patient will show up for their scheduled appointment or not?  \n",
    "With this being said, the two questions that I will be investigating will be:  \n",
    "\n",
    "+ **Does the waiting interval affect the rate of no show?**  \n",
    "In this analysis, a new column will be introduced, **waiting_period**, which represents the number of days between the day the appointment was booked (ScheduledDay) and the day of the medical appointment (AppointmentDay).  \n",
    "The waiting_period will then be analyzed to see if it has any effect on the patients appointment No-show status.\n",
    "\n",
    "\n",
    "+ **What other factors are important in the prediction of a patient's No-show status?**  \n",
    "Other important columns (after dropping some columns) will be used as independent variables, and the No-show column used as the dependent variable in analysing which information or set of information is most suitable for predicting if a patient will show up for their appointment."
   ]
  },
  {
   "cell_type": "markdown",
   "metadata": {},
   "source": [
    "<a id='wrangling'></a>\n",
    "## Data Wrangling  \n",
    "\n",
    "In this section, the dataset and packages needed will be imported and loaded.  \n",
    "The data set will then be analysed for missing datas, null datas, and other errors that the dataset may have and will later be cleaned based on the errors found."
   ]
  },
  {
   "cell_type": "markdown",
   "metadata": {},
   "source": [
    "### Loading packages and data  \n",
    "\n",
    "The python packages required for comprehensive analysis and representation of results gotten from the dataframe are\n",
    "+ **Pandas** for data analysis and cleaning  \n",
    "+ **Numpy** for numerical computations\n",
    "+ **Matplotlib** for data visualisation\n",
    "+ **Seaborn** also for data visualisation  "
   ]
  },
  {
   "cell_type": "code",
   "execution_count": 1,
   "metadata": {},
   "outputs": [],
   "source": [
    "# Importing packages needed for the analysis\n",
    "\n",
    "import pandas as pd\n",
    "import numpy as np\n",
    "import matplotlib.pyplot as plt\n",
    "import seaborn as sns\n",
    "% matplotlib inline"
   ]
  },
  {
   "cell_type": "code",
   "execution_count": 2,
   "metadata": {},
   "outputs": [],
   "source": [
    "# Loading the data used for the analysis\n",
    "\n",
    "df = pd.read_csv('noshowappointments-kagglev2-may-2016.csv')"
   ]
  },
  {
   "cell_type": "markdown",
   "metadata": {},
   "source": [
    "### Data assessing  \n",
    "Checking the dataset for errors using various operations."
   ]
  },
  {
   "cell_type": "code",
   "execution_count": 3,
   "metadata": {},
   "outputs": [
    {
     "data": {
      "text/html": [
       "<div>\n",
       "<style scoped>\n",
       "    .dataframe tbody tr th:only-of-type {\n",
       "        vertical-align: middle;\n",
       "    }\n",
       "\n",
       "    .dataframe tbody tr th {\n",
       "        vertical-align: top;\n",
       "    }\n",
       "\n",
       "    .dataframe thead th {\n",
       "        text-align: right;\n",
       "    }\n",
       "</style>\n",
       "<table border=\"1\" class=\"dataframe\">\n",
       "  <thead>\n",
       "    <tr style=\"text-align: right;\">\n",
       "      <th></th>\n",
       "      <th>PatientId</th>\n",
       "      <th>AppointmentID</th>\n",
       "      <th>Gender</th>\n",
       "      <th>ScheduledDay</th>\n",
       "      <th>AppointmentDay</th>\n",
       "      <th>Age</th>\n",
       "      <th>Neighbourhood</th>\n",
       "      <th>Scholarship</th>\n",
       "      <th>Hipertension</th>\n",
       "      <th>Diabetes</th>\n",
       "      <th>Alcoholism</th>\n",
       "      <th>Handcap</th>\n",
       "      <th>SMS_received</th>\n",
       "      <th>No-show</th>\n",
       "    </tr>\n",
       "  </thead>\n",
       "  <tbody>\n",
       "    <tr>\n",
       "      <th>0</th>\n",
       "      <td>2.987250e+13</td>\n",
       "      <td>5642903</td>\n",
       "      <td>F</td>\n",
       "      <td>2016-04-29T18:38:08Z</td>\n",
       "      <td>2016-04-29T00:00:00Z</td>\n",
       "      <td>62</td>\n",
       "      <td>JARDIM DA PENHA</td>\n",
       "      <td>0</td>\n",
       "      <td>1</td>\n",
       "      <td>0</td>\n",
       "      <td>0</td>\n",
       "      <td>0</td>\n",
       "      <td>0</td>\n",
       "      <td>No</td>\n",
       "    </tr>\n",
       "    <tr>\n",
       "      <th>1</th>\n",
       "      <td>5.589978e+14</td>\n",
       "      <td>5642503</td>\n",
       "      <td>M</td>\n",
       "      <td>2016-04-29T16:08:27Z</td>\n",
       "      <td>2016-04-29T00:00:00Z</td>\n",
       "      <td>56</td>\n",
       "      <td>JARDIM DA PENHA</td>\n",
       "      <td>0</td>\n",
       "      <td>0</td>\n",
       "      <td>0</td>\n",
       "      <td>0</td>\n",
       "      <td>0</td>\n",
       "      <td>0</td>\n",
       "      <td>No</td>\n",
       "    </tr>\n",
       "    <tr>\n",
       "      <th>2</th>\n",
       "      <td>4.262962e+12</td>\n",
       "      <td>5642549</td>\n",
       "      <td>F</td>\n",
       "      <td>2016-04-29T16:19:04Z</td>\n",
       "      <td>2016-04-29T00:00:00Z</td>\n",
       "      <td>62</td>\n",
       "      <td>MATA DA PRAIA</td>\n",
       "      <td>0</td>\n",
       "      <td>0</td>\n",
       "      <td>0</td>\n",
       "      <td>0</td>\n",
       "      <td>0</td>\n",
       "      <td>0</td>\n",
       "      <td>No</td>\n",
       "    </tr>\n",
       "    <tr>\n",
       "      <th>3</th>\n",
       "      <td>8.679512e+11</td>\n",
       "      <td>5642828</td>\n",
       "      <td>F</td>\n",
       "      <td>2016-04-29T17:29:31Z</td>\n",
       "      <td>2016-04-29T00:00:00Z</td>\n",
       "      <td>8</td>\n",
       "      <td>PONTAL DE CAMBURI</td>\n",
       "      <td>0</td>\n",
       "      <td>0</td>\n",
       "      <td>0</td>\n",
       "      <td>0</td>\n",
       "      <td>0</td>\n",
       "      <td>0</td>\n",
       "      <td>No</td>\n",
       "    </tr>\n",
       "    <tr>\n",
       "      <th>4</th>\n",
       "      <td>8.841186e+12</td>\n",
       "      <td>5642494</td>\n",
       "      <td>F</td>\n",
       "      <td>2016-04-29T16:07:23Z</td>\n",
       "      <td>2016-04-29T00:00:00Z</td>\n",
       "      <td>56</td>\n",
       "      <td>JARDIM DA PENHA</td>\n",
       "      <td>0</td>\n",
       "      <td>1</td>\n",
       "      <td>1</td>\n",
       "      <td>0</td>\n",
       "      <td>0</td>\n",
       "      <td>0</td>\n",
       "      <td>No</td>\n",
       "    </tr>\n",
       "  </tbody>\n",
       "</table>\n",
       "</div>"
      ],
      "text/plain": [
       "      PatientId  AppointmentID Gender          ScheduledDay  \\\n",
       "0  2.987250e+13        5642903      F  2016-04-29T18:38:08Z   \n",
       "1  5.589978e+14        5642503      M  2016-04-29T16:08:27Z   \n",
       "2  4.262962e+12        5642549      F  2016-04-29T16:19:04Z   \n",
       "3  8.679512e+11        5642828      F  2016-04-29T17:29:31Z   \n",
       "4  8.841186e+12        5642494      F  2016-04-29T16:07:23Z   \n",
       "\n",
       "         AppointmentDay  Age      Neighbourhood  Scholarship  Hipertension  \\\n",
       "0  2016-04-29T00:00:00Z   62    JARDIM DA PENHA            0             1   \n",
       "1  2016-04-29T00:00:00Z   56    JARDIM DA PENHA            0             0   \n",
       "2  2016-04-29T00:00:00Z   62      MATA DA PRAIA            0             0   \n",
       "3  2016-04-29T00:00:00Z    8  PONTAL DE CAMBURI            0             0   \n",
       "4  2016-04-29T00:00:00Z   56    JARDIM DA PENHA            0             1   \n",
       "\n",
       "   Diabetes  Alcoholism  Handcap  SMS_received No-show  \n",
       "0         0           0        0             0      No  \n",
       "1         0           0        0             0      No  \n",
       "2         0           0        0             0      No  \n",
       "3         0           0        0             0      No  \n",
       "4         1           0        0             0      No  "
      ]
     },
     "execution_count": 3,
     "metadata": {},
     "output_type": "execute_result"
    }
   ],
   "source": [
    "df.head()"
   ]
  },
  {
   "cell_type": "markdown",
   "metadata": {},
   "source": [
    "> This gives an insight into what the data looks like by showing the first 5 rows of the dataset with all its columns.  \n",
    "This also helps to access if the dataframe is actually seperated by commas as a csv file as it is meant to."
   ]
  },
  {
   "cell_type": "code",
   "execution_count": 4,
   "metadata": {},
   "outputs": [
    {
     "data": {
      "text/plain": [
       "(110527, 14)"
      ]
     },
     "execution_count": 4,
     "metadata": {},
     "output_type": "execute_result"
    }
   ],
   "source": [
    "df.shape"
   ]
  },
  {
   "cell_type": "markdown",
   "metadata": {},
   "source": [
    "> Shows the size of the dataframe, (rows, columns)."
   ]
  },
  {
   "cell_type": "code",
   "execution_count": 5,
   "metadata": {},
   "outputs": [
    {
     "data": {
      "text/html": [
       "<div>\n",
       "<style scoped>\n",
       "    .dataframe tbody tr th:only-of-type {\n",
       "        vertical-align: middle;\n",
       "    }\n",
       "\n",
       "    .dataframe tbody tr th {\n",
       "        vertical-align: top;\n",
       "    }\n",
       "\n",
       "    .dataframe thead th {\n",
       "        text-align: right;\n",
       "    }\n",
       "</style>\n",
       "<table border=\"1\" class=\"dataframe\">\n",
       "  <thead>\n",
       "    <tr style=\"text-align: right;\">\n",
       "      <th></th>\n",
       "      <th>PatientId</th>\n",
       "      <th>AppointmentID</th>\n",
       "      <th>Age</th>\n",
       "      <th>Scholarship</th>\n",
       "      <th>Hipertension</th>\n",
       "      <th>Diabetes</th>\n",
       "      <th>Alcoholism</th>\n",
       "      <th>Handcap</th>\n",
       "      <th>SMS_received</th>\n",
       "    </tr>\n",
       "  </thead>\n",
       "  <tbody>\n",
       "    <tr>\n",
       "      <th>count</th>\n",
       "      <td>1.105270e+05</td>\n",
       "      <td>1.105270e+05</td>\n",
       "      <td>110527.000000</td>\n",
       "      <td>110527.000000</td>\n",
       "      <td>110527.000000</td>\n",
       "      <td>110527.000000</td>\n",
       "      <td>110527.000000</td>\n",
       "      <td>110527.000000</td>\n",
       "      <td>110527.000000</td>\n",
       "    </tr>\n",
       "    <tr>\n",
       "      <th>mean</th>\n",
       "      <td>1.474963e+14</td>\n",
       "      <td>5.675305e+06</td>\n",
       "      <td>37.088874</td>\n",
       "      <td>0.098266</td>\n",
       "      <td>0.197246</td>\n",
       "      <td>0.071865</td>\n",
       "      <td>0.030400</td>\n",
       "      <td>0.022248</td>\n",
       "      <td>0.321026</td>\n",
       "    </tr>\n",
       "    <tr>\n",
       "      <th>std</th>\n",
       "      <td>2.560949e+14</td>\n",
       "      <td>7.129575e+04</td>\n",
       "      <td>23.110205</td>\n",
       "      <td>0.297675</td>\n",
       "      <td>0.397921</td>\n",
       "      <td>0.258265</td>\n",
       "      <td>0.171686</td>\n",
       "      <td>0.161543</td>\n",
       "      <td>0.466873</td>\n",
       "    </tr>\n",
       "    <tr>\n",
       "      <th>min</th>\n",
       "      <td>3.921784e+04</td>\n",
       "      <td>5.030230e+06</td>\n",
       "      <td>-1.000000</td>\n",
       "      <td>0.000000</td>\n",
       "      <td>0.000000</td>\n",
       "      <td>0.000000</td>\n",
       "      <td>0.000000</td>\n",
       "      <td>0.000000</td>\n",
       "      <td>0.000000</td>\n",
       "    </tr>\n",
       "    <tr>\n",
       "      <th>25%</th>\n",
       "      <td>4.172614e+12</td>\n",
       "      <td>5.640286e+06</td>\n",
       "      <td>18.000000</td>\n",
       "      <td>0.000000</td>\n",
       "      <td>0.000000</td>\n",
       "      <td>0.000000</td>\n",
       "      <td>0.000000</td>\n",
       "      <td>0.000000</td>\n",
       "      <td>0.000000</td>\n",
       "    </tr>\n",
       "    <tr>\n",
       "      <th>50%</th>\n",
       "      <td>3.173184e+13</td>\n",
       "      <td>5.680573e+06</td>\n",
       "      <td>37.000000</td>\n",
       "      <td>0.000000</td>\n",
       "      <td>0.000000</td>\n",
       "      <td>0.000000</td>\n",
       "      <td>0.000000</td>\n",
       "      <td>0.000000</td>\n",
       "      <td>0.000000</td>\n",
       "    </tr>\n",
       "    <tr>\n",
       "      <th>75%</th>\n",
       "      <td>9.439172e+13</td>\n",
       "      <td>5.725524e+06</td>\n",
       "      <td>55.000000</td>\n",
       "      <td>0.000000</td>\n",
       "      <td>0.000000</td>\n",
       "      <td>0.000000</td>\n",
       "      <td>0.000000</td>\n",
       "      <td>0.000000</td>\n",
       "      <td>1.000000</td>\n",
       "    </tr>\n",
       "    <tr>\n",
       "      <th>max</th>\n",
       "      <td>9.999816e+14</td>\n",
       "      <td>5.790484e+06</td>\n",
       "      <td>115.000000</td>\n",
       "      <td>1.000000</td>\n",
       "      <td>1.000000</td>\n",
       "      <td>1.000000</td>\n",
       "      <td>1.000000</td>\n",
       "      <td>4.000000</td>\n",
       "      <td>1.000000</td>\n",
       "    </tr>\n",
       "  </tbody>\n",
       "</table>\n",
       "</div>"
      ],
      "text/plain": [
       "          PatientId  AppointmentID            Age    Scholarship  \\\n",
       "count  1.105270e+05   1.105270e+05  110527.000000  110527.000000   \n",
       "mean   1.474963e+14   5.675305e+06      37.088874       0.098266   \n",
       "std    2.560949e+14   7.129575e+04      23.110205       0.297675   \n",
       "min    3.921784e+04   5.030230e+06      -1.000000       0.000000   \n",
       "25%    4.172614e+12   5.640286e+06      18.000000       0.000000   \n",
       "50%    3.173184e+13   5.680573e+06      37.000000       0.000000   \n",
       "75%    9.439172e+13   5.725524e+06      55.000000       0.000000   \n",
       "max    9.999816e+14   5.790484e+06     115.000000       1.000000   \n",
       "\n",
       "        Hipertension       Diabetes     Alcoholism        Handcap  \\\n",
       "count  110527.000000  110527.000000  110527.000000  110527.000000   \n",
       "mean        0.197246       0.071865       0.030400       0.022248   \n",
       "std         0.397921       0.258265       0.171686       0.161543   \n",
       "min         0.000000       0.000000       0.000000       0.000000   \n",
       "25%         0.000000       0.000000       0.000000       0.000000   \n",
       "50%         0.000000       0.000000       0.000000       0.000000   \n",
       "75%         0.000000       0.000000       0.000000       0.000000   \n",
       "max         1.000000       1.000000       1.000000       4.000000   \n",
       "\n",
       "        SMS_received  \n",
       "count  110527.000000  \n",
       "mean        0.321026  \n",
       "std         0.466873  \n",
       "min         0.000000  \n",
       "25%         0.000000  \n",
       "50%         0.000000  \n",
       "75%         1.000000  \n",
       "max         1.000000  "
      ]
     },
     "execution_count": 5,
     "metadata": {},
     "output_type": "execute_result"
    }
   ],
   "source": [
    "df.describe()"
   ]
  },
  {
   "cell_type": "markdown",
   "metadata": {},
   "source": [
    "> Descriptive summary of the dataframe showing the count, mean, standard deviation, minimum and maximum, along with various percentiles for the numeric columns of the dataframe.\n",
    "\n",
    "> From the above, we could observe some few outliers already. Age column having a minimum of -1 which is odd and Handcap having a max of 4 instead of 1. This will be taken care of later on."
   ]
  },
  {
   "cell_type": "code",
   "execution_count": 6,
   "metadata": {},
   "outputs": [
    {
     "data": {
      "text/html": [
       "<div>\n",
       "<style scoped>\n",
       "    .dataframe tbody tr th:only-of-type {\n",
       "        vertical-align: middle;\n",
       "    }\n",
       "\n",
       "    .dataframe tbody tr th {\n",
       "        vertical-align: top;\n",
       "    }\n",
       "\n",
       "    .dataframe thead th {\n",
       "        text-align: right;\n",
       "    }\n",
       "</style>\n",
       "<table border=\"1\" class=\"dataframe\">\n",
       "  <thead>\n",
       "    <tr style=\"text-align: right;\">\n",
       "      <th></th>\n",
       "      <th>Gender</th>\n",
       "      <th>ScheduledDay</th>\n",
       "      <th>AppointmentDay</th>\n",
       "      <th>Neighbourhood</th>\n",
       "      <th>No-show</th>\n",
       "    </tr>\n",
       "  </thead>\n",
       "  <tbody>\n",
       "    <tr>\n",
       "      <th>count</th>\n",
       "      <td>110527</td>\n",
       "      <td>110527</td>\n",
       "      <td>110527</td>\n",
       "      <td>110527</td>\n",
       "      <td>110527</td>\n",
       "    </tr>\n",
       "    <tr>\n",
       "      <th>unique</th>\n",
       "      <td>2</td>\n",
       "      <td>103549</td>\n",
       "      <td>27</td>\n",
       "      <td>81</td>\n",
       "      <td>2</td>\n",
       "    </tr>\n",
       "    <tr>\n",
       "      <th>top</th>\n",
       "      <td>F</td>\n",
       "      <td>2016-05-06T07:09:54Z</td>\n",
       "      <td>2016-06-06T00:00:00Z</td>\n",
       "      <td>JARDIM CAMBURI</td>\n",
       "      <td>No</td>\n",
       "    </tr>\n",
       "    <tr>\n",
       "      <th>freq</th>\n",
       "      <td>71840</td>\n",
       "      <td>24</td>\n",
       "      <td>4692</td>\n",
       "      <td>7717</td>\n",
       "      <td>88208</td>\n",
       "    </tr>\n",
       "  </tbody>\n",
       "</table>\n",
       "</div>"
      ],
      "text/plain": [
       "        Gender          ScheduledDay        AppointmentDay   Neighbourhood  \\\n",
       "count   110527                110527                110527          110527   \n",
       "unique       2                103549                    27              81   \n",
       "top          F  2016-05-06T07:09:54Z  2016-06-06T00:00:00Z  JARDIM CAMBURI   \n",
       "freq     71840                    24                  4692            7717   \n",
       "\n",
       "       No-show  \n",
       "count   110527  \n",
       "unique       2  \n",
       "top         No  \n",
       "freq     88208  "
      ]
     },
     "execution_count": 6,
     "metadata": {},
     "output_type": "execute_result"
    }
   ],
   "source": [
    "df.describe(exclude=[np.number])"
   ]
  },
  {
   "cell_type": "markdown",
   "metadata": {},
   "source": [
    "> Descriptive summary of the non numeric columns of the dataframe showing the row count, count of unique values, the top value with it's corresponding frequency."
   ]
  },
  {
   "cell_type": "code",
   "execution_count": 7,
   "metadata": {},
   "outputs": [
    {
     "name": "stdout",
     "output_type": "stream",
     "text": [
      "<class 'pandas.core.frame.DataFrame'>\n",
      "RangeIndex: 110527 entries, 0 to 110526\n",
      "Data columns (total 14 columns):\n",
      "PatientId         110527 non-null float64\n",
      "AppointmentID     110527 non-null int64\n",
      "Gender            110527 non-null object\n",
      "ScheduledDay      110527 non-null object\n",
      "AppointmentDay    110527 non-null object\n",
      "Age               110527 non-null int64\n",
      "Neighbourhood     110527 non-null object\n",
      "Scholarship       110527 non-null int64\n",
      "Hipertension      110527 non-null int64\n",
      "Diabetes          110527 non-null int64\n",
      "Alcoholism        110527 non-null int64\n",
      "Handcap           110527 non-null int64\n",
      "SMS_received      110527 non-null int64\n",
      "No-show           110527 non-null object\n",
      "dtypes: float64(1), int64(8), object(5)\n",
      "memory usage: 11.8+ MB\n"
     ]
    }
   ],
   "source": [
    "df.info()"
   ]
  },
  {
   "cell_type": "markdown",
   "metadata": {},
   "source": [
    "> The `df.info()` code gives a general informative summary of the dataframe, showing the total number of entries (rows and columns), the number of enteries for each column (if there are any missing entries), and the type of data in each column.\n",
    "\n",
    "> From the above, some few peculiarities seen were the day attributes which had object type and patientID which had a float type. "
   ]
  },
  {
   "cell_type": "markdown",
   "metadata": {},
   "source": [
    "In a dataset, there might be no missing values, but the dataset may have values that are either put in incorrectly (numbers where there are strings), or as Nan.  \n",
    "This too has to be checked for for better cleaning."
   ]
  },
  {
   "cell_type": "code",
   "execution_count": 8,
   "metadata": {},
   "outputs": [
    {
     "data": {
      "text/plain": [
       "False"
      ]
     },
     "execution_count": 8,
     "metadata": {},
     "output_type": "execute_result"
    }
   ],
   "source": [
    "df.isnull().values.any()"
   ]
  },
  {
   "cell_type": "code",
   "execution_count": 9,
   "metadata": {},
   "outputs": [
    {
     "data": {
      "text/plain": [
       "PatientId         0\n",
       "AppointmentID     0\n",
       "Gender            0\n",
       "ScheduledDay      0\n",
       "AppointmentDay    0\n",
       "Age               0\n",
       "Neighbourhood     0\n",
       "Scholarship       0\n",
       "Hipertension      0\n",
       "Diabetes          0\n",
       "Alcoholism        0\n",
       "Handcap           0\n",
       "SMS_received      0\n",
       "No-show           0\n",
       "dtype: int64"
      ]
     },
     "execution_count": 9,
     "metadata": {},
     "output_type": "execute_result"
    }
   ],
   "source": [
    "df.isnull().sum() "
   ]
  },
  {
   "cell_type": "markdown",
   "metadata": {},
   "source": [
    "> `df.isnull().values.any()` and `df.isnull().sum() ` both are different operations for showing if there is a null entry in the dataset. The former giving a total analysis, **True** if there are null entries and **False** if there is no null entry, while the later shows the differnt columns and the number of null entries present.\n",
    "\n",
    "> In both cases, it showed there were no null entries in our dataset"
   ]
  },
  {
   "cell_type": "code",
   "execution_count": 10,
   "metadata": {},
   "outputs": [
    {
     "data": {
      "text/plain": [
       "PatientId          62299\n",
       "AppointmentID     110527\n",
       "Gender                 2\n",
       "ScheduledDay      103549\n",
       "AppointmentDay        27\n",
       "Age                  104\n",
       "Neighbourhood         81\n",
       "Scholarship            2\n",
       "Hipertension           2\n",
       "Diabetes               2\n",
       "Alcoholism             2\n",
       "Handcap                5\n",
       "SMS_received           2\n",
       "No-show                2\n",
       "dtype: int64"
      ]
     },
     "execution_count": 10,
     "metadata": {},
     "output_type": "execute_result"
    }
   ],
   "source": [
    "df.nunique()"
   ]
  },
  {
   "cell_type": "markdown",
   "metadata": {},
   "source": [
    "> Gives the number of uniques values in each column. From this output, you can determine if a colum has duplicated entries or not. Although most of the columns appear to be duplicated, but the only columns that need to have unique numbers for each entry should be that of **PatientId** and **AppointmentID**."
   ]
  },
  {
   "cell_type": "code",
   "execution_count": 11,
   "metadata": {},
   "outputs": [
    {
     "data": {
      "text/plain": [
       "48228"
      ]
     },
     "execution_count": 11,
     "metadata": {},
     "output_type": "execute_result"
    }
   ],
   "source": [
    "df.duplicated('PatientId').sum()"
   ]
  },
  {
   "cell_type": "code",
   "execution_count": 12,
   "metadata": {},
   "outputs": [
    {
     "data": {
      "text/plain": [
       "0"
      ]
     },
     "execution_count": 12,
     "metadata": {},
     "output_type": "execute_result"
    }
   ],
   "source": [
    "df.duplicated(['PatientId','AppointmentID']).sum()"
   ]
  },
  {
   "cell_type": "markdown",
   "metadata": {},
   "source": [
    "> Further assesment was done for the number of duplicated entries in the two columns mentioned above."
   ]
  },
  {
   "cell_type": "markdown",
   "metadata": {},
   "source": [
    "\n",
    "### Data Cleaning "
   ]
  },
  {
   "cell_type": "markdown",
   "metadata": {},
   "source": [
    "After assessing the data, it was seen that the data had no missing values and no null values as well.  \n",
    "However, the issues noticed after the assessment include:\n",
    "+ Duplicated entries\n",
    "+ Minimum age of -1 \n",
    "+ Maximum Handcap value of 4\n",
    "+ Mispelled and wrong capitalization of column headings\n",
    "+ Dates not in datetime format\n",
    "+ Patient_id is in float and not int64\n",
    "+ Columns that may not be needed for the analysis\n"
   ]
  },
  {
   "cell_type": "markdown",
   "metadata": {},
   "source": [
    "From further assessment done on the duplicated **PatientId** with that of the **AppointmentID**, the duplicated **PatientId** does not seem to be a problem as there are no duplicated rows having both **PatientId** and **AppointmentID** thus leading to the conclusion that a patient may have called in more than once to book for different appointments."
   ]
  },
  {
   "cell_type": "markdown",
   "metadata": {},
   "source": [
    "As seen in the `df.describe()` output, there is a minimum age of -1 which is impossible. A `df.Age.value_counts()` code was run to see the number of entries attached to this minimum value in order to determine the next step."
   ]
  },
  {
   "cell_type": "code",
   "execution_count": 13,
   "metadata": {},
   "outputs": [
    {
     "data": {
      "text/plain": [
       " 0      3539\n",
       " 1      2273\n",
       " 52     1746\n",
       " 49     1652\n",
       " 53     1651\n",
       " 56     1635\n",
       " 38     1629\n",
       " 59     1624\n",
       " 2      1618\n",
       " 50     1613\n",
       " 57     1603\n",
       " 36     1580\n",
       " 51     1567\n",
       " 19     1545\n",
       " 39     1536\n",
       " 37     1533\n",
       " 54     1530\n",
       " 34     1526\n",
       " 33     1524\n",
       " 30     1521\n",
       " 6      1521\n",
       " 3      1513\n",
       " 17     1509\n",
       " 32     1505\n",
       " 5      1489\n",
       " 44     1487\n",
       " 18     1487\n",
       " 58     1469\n",
       " 46     1460\n",
       " 45     1453\n",
       "        ... \n",
       " 74      602\n",
       " 76      571\n",
       " 75      544\n",
       " 78      541\n",
       " 77      527\n",
       " 80      511\n",
       " 81      434\n",
       " 82      392\n",
       " 79      390\n",
       " 84      311\n",
       " 83      280\n",
       " 85      275\n",
       " 86      260\n",
       " 87      184\n",
       " 89      173\n",
       " 88      126\n",
       " 90      109\n",
       " 92       86\n",
       " 91       66\n",
       " 93       53\n",
       " 94       33\n",
       " 95       24\n",
       " 96       17\n",
       " 97       11\n",
       " 98        6\n",
       " 115       5\n",
       " 100       4\n",
       " 102       2\n",
       " 99        1\n",
       "-1         1\n",
       "Name: Age, Length: 104, dtype: int64"
      ]
     },
     "execution_count": 13,
     "metadata": {},
     "output_type": "execute_result"
    }
   ],
   "source": [
    "df.Age.value_counts()"
   ]
  },
  {
   "cell_type": "code",
   "execution_count": 14,
   "metadata": {},
   "outputs": [],
   "source": [
    "df = df[df.Age != -1]"
   ]
  },
  {
   "cell_type": "markdown",
   "metadata": {},
   "source": [
    "> We have just 1 entry for the -1 age which is insignificant, therefore this entry was dropped. It might look like its also impossible to have ages of '0' but these entries will be left there with the assumption that babies not up to a year fall into that category."
   ]
  },
  {
   "cell_type": "markdown",
   "metadata": {},
   "source": [
    "The handcap column also shows a max value of 4 in a colum where its meant to be 1's and 0's. A bar chat was therefore made to see the distribution of the numbers involved."
   ]
  },
  {
   "cell_type": "code",
   "execution_count": 15,
   "metadata": {},
   "outputs": [
    {
     "data": {
      "image/png": "[encoded data removed]",
      "text/plain": [
       "<matplotlib.figure.Figure at 0x7f7441d73668>"
      ]
     },
     "metadata": {
      "needs_background": "light"
     },
     "output_type": "display_data"
    }
   ],
   "source": [
    "counts = df['Handcap'].value_counts().to_dict()\n",
    "values = list(counts.keys())\n",
    "count = list(counts.values())\n",
    "\n",
    "plt.bar(range(len(counts)), count, tick_label=values)\n",
    "plt.show()"
   ]
  },
  {
   "cell_type": "code",
   "execution_count": 16,
   "metadata": {},
   "outputs": [
    {
     "data": {
      "text/plain": [
       "{0: 108285, 1: 2042, 2: 183, 3: 13, 4: 3}"
      ]
     },
     "execution_count": 16,
     "metadata": {},
     "output_type": "execute_result"
    }
   ],
   "source": [
    "counts"
   ]
  },
  {
   "cell_type": "markdown",
   "metadata": {},
   "source": [
    "> From the above barchat and the `counts` operation, it shows that the number of rows with numbers greater than 1 are not so many and can be dropped in order to not cause confusions. This was done in the next cell."
   ]
  },
  {
   "cell_type": "code",
   "execution_count": 17,
   "metadata": {},
   "outputs": [],
   "source": [
    "df = df[df.Handcap <= 1]"
   ]
  },
  {
   "cell_type": "code",
   "execution_count": 18,
   "metadata": {},
   "outputs": [],
   "source": [
    "df.drop('AppointmentID', inplace=True, axis=1)\n",
    "df.drop('PatientId', inplace=True, axis=1)"
   ]
  },
  {
   "cell_type": "markdown",
   "metadata": {},
   "source": [
    "> The **AppointmentID** and **PatientId** columns were dropped as they will be of no importance to me in further analysis."
   ]
  },
  {
   "cell_type": "code",
   "execution_count": 19,
   "metadata": {},
   "outputs": [
    {
     "data": {
      "text/html": [
       "<div>\n",
       "<style scoped>\n",
       "    .dataframe tbody tr th:only-of-type {\n",
       "        vertical-align: middle;\n",
       "    }\n",
       "\n",
       "    .dataframe tbody tr th {\n",
       "        vertical-align: top;\n",
       "    }\n",
       "\n",
       "    .dataframe thead th {\n",
       "        text-align: right;\n",
       "    }\n",
       "</style>\n",
       "<table border=\"1\" class=\"dataframe\">\n",
       "  <thead>\n",
       "    <tr style=\"text-align: right;\">\n",
       "      <th></th>\n",
       "      <th>Age</th>\n",
       "      <th>Scholarship</th>\n",
       "      <th>Hipertension</th>\n",
       "      <th>Diabetes</th>\n",
       "      <th>Alcoholism</th>\n",
       "      <th>Handcap</th>\n",
       "      <th>SMS_received</th>\n",
       "    </tr>\n",
       "  </thead>\n",
       "  <tbody>\n",
       "    <tr>\n",
       "      <th>count</th>\n",
       "      <td>110327.000000</td>\n",
       "      <td>110327.000000</td>\n",
       "      <td>110327.000000</td>\n",
       "      <td>110327.000000</td>\n",
       "      <td>110327.000000</td>\n",
       "      <td>110327.000000</td>\n",
       "      <td>110327.000000</td>\n",
       "    </tr>\n",
       "    <tr>\n",
       "      <th>mean</th>\n",
       "      <td>37.070753</td>\n",
       "      <td>0.098281</td>\n",
       "      <td>0.196833</td>\n",
       "      <td>0.071605</td>\n",
       "      <td>0.030382</td>\n",
       "      <td>0.018509</td>\n",
       "      <td>0.321182</td>\n",
       "    </tr>\n",
       "    <tr>\n",
       "      <th>std</th>\n",
       "      <td>23.098052</td>\n",
       "      <td>0.297695</td>\n",
       "      <td>0.397607</td>\n",
       "      <td>0.257834</td>\n",
       "      <td>0.171638</td>\n",
       "      <td>0.134782</td>\n",
       "      <td>0.466932</td>\n",
       "    </tr>\n",
       "    <tr>\n",
       "      <th>min</th>\n",
       "      <td>0.000000</td>\n",
       "      <td>0.000000</td>\n",
       "      <td>0.000000</td>\n",
       "      <td>0.000000</td>\n",
       "      <td>0.000000</td>\n",
       "      <td>0.000000</td>\n",
       "      <td>0.000000</td>\n",
       "    </tr>\n",
       "    <tr>\n",
       "      <th>25%</th>\n",
       "      <td>18.000000</td>\n",
       "      <td>0.000000</td>\n",
       "      <td>0.000000</td>\n",
       "      <td>0.000000</td>\n",
       "      <td>0.000000</td>\n",
       "      <td>0.000000</td>\n",
       "      <td>0.000000</td>\n",
       "    </tr>\n",
       "    <tr>\n",
       "      <th>50%</th>\n",
       "      <td>37.000000</td>\n",
       "      <td>0.000000</td>\n",
       "      <td>0.000000</td>\n",
       "      <td>0.000000</td>\n",
       "      <td>0.000000</td>\n",
       "      <td>0.000000</td>\n",
       "      <td>0.000000</td>\n",
       "    </tr>\n",
       "    <tr>\n",
       "      <th>75%</th>\n",
       "      <td>55.000000</td>\n",
       "      <td>0.000000</td>\n",
       "      <td>0.000000</td>\n",
       "      <td>0.000000</td>\n",
       "      <td>0.000000</td>\n",
       "      <td>0.000000</td>\n",
       "      <td>1.000000</td>\n",
       "    </tr>\n",
       "    <tr>\n",
       "      <th>max</th>\n",
       "      <td>115.000000</td>\n",
       "      <td>1.000000</td>\n",
       "      <td>1.000000</td>\n",
       "      <td>1.000000</td>\n",
       "      <td>1.000000</td>\n",
       "      <td>1.000000</td>\n",
       "      <td>1.000000</td>\n",
       "    </tr>\n",
       "  </tbody>\n",
       "</table>\n",
       "</div>"
      ],
      "text/plain": [
       "                 Age    Scholarship   Hipertension       Diabetes  \\\n",
       "count  110327.000000  110327.000000  110327.000000  110327.000000   \n",
       "mean       37.070753       0.098281       0.196833       0.071605   \n",
       "std        23.098052       0.297695       0.397607       0.257834   \n",
       "min         0.000000       0.000000       0.000000       0.000000   \n",
       "25%        18.000000       0.000000       0.000000       0.000000   \n",
       "50%        37.000000       0.000000       0.000000       0.000000   \n",
       "75%        55.000000       0.000000       0.000000       0.000000   \n",
       "max       115.000000       1.000000       1.000000       1.000000   \n",
       "\n",
       "          Alcoholism        Handcap   SMS_received  \n",
       "count  110327.000000  110327.000000  110327.000000  \n",
       "mean        0.030382       0.018509       0.321182  \n",
       "std         0.171638       0.134782       0.466932  \n",
       "min         0.000000       0.000000       0.000000  \n",
       "25%         0.000000       0.000000       0.000000  \n",
       "50%         0.000000       0.000000       0.000000  \n",
       "75%         0.000000       0.000000       1.000000  \n",
       "max         1.000000       1.000000       1.000000  "
      ]
     },
     "execution_count": 19,
     "metadata": {},
     "output_type": "execute_result"
    }
   ],
   "source": [
    "df.describe()"
   ]
  },
  {
   "cell_type": "markdown",
   "metadata": {},
   "source": [
    "> Using the `df.describe()` operation again to confirm that the unwanted entries were actually dropped."
   ]
  },
  {
   "cell_type": "markdown",
   "metadata": {},
   "source": [
    "As seen in the column labels, some labels were misspelled, written wrongly with the use of capital letters and hyphen and also labeled with some confusing terms.  \n",
    "Next step will be renaming the columns to names I can work with using the `df.rename` operation."
   ]
  },
  {
   "cell_type": "code",
   "execution_count": 20,
   "metadata": {},
   "outputs": [],
   "source": [
    "df.rename({'Gender' : 'gender', 'ScheduledDay' : 'booking_day', 'AppointmentDay' : 'appointment_day', 'Age' : 'age', 'Neighbourhood' :'neighbourhood', 'Scholarship' : 'scholarship', 'Hipertension' : 'hypertensive', 'Diabetes' : 'diabetic', 'Alcoholism' : 'alcoholic', 'Handcap' : 'disabled', 'SMS_received' : 'sms_received', 'No-show' : 'absent'}, axis=1, inplace=True)"
   ]
  },
  {
   "cell_type": "markdown",
   "metadata": {},
   "source": [
    "> The renaming was mostly done to correct spelliungs and casings of the column names. Although two column names were totally changed and not just corrected for better context.\n",
    ">> **Handcap** was changed to **disabled**  \n",
    ">> **No-show** was changed to **absent**"
   ]
  },
  {
   "cell_type": "code",
   "execution_count": 21,
   "metadata": {},
   "outputs": [
    {
     "data": {
      "text/html": [
       "<div>\n",
       "<style scoped>\n",
       "    .dataframe tbody tr th:only-of-type {\n",
       "        vertical-align: middle;\n",
       "    }\n",
       "\n",
       "    .dataframe tbody tr th {\n",
       "        vertical-align: top;\n",
       "    }\n",
       "\n",
       "    .dataframe thead th {\n",
       "        text-align: right;\n",
       "    }\n",
       "</style>\n",
       "<table border=\"1\" class=\"dataframe\">\n",
       "  <thead>\n",
       "    <tr style=\"text-align: right;\">\n",
       "      <th></th>\n",
       "      <th>gender</th>\n",
       "      <th>booking_day</th>\n",
       "      <th>appointment_day</th>\n",
       "      <th>age</th>\n",
       "      <th>neighbourhood</th>\n",
       "      <th>scholarship</th>\n",
       "      <th>hypertensive</th>\n",
       "      <th>diabetic</th>\n",
       "      <th>alcoholic</th>\n",
       "      <th>disabled</th>\n",
       "      <th>sms_received</th>\n",
       "      <th>absent</th>\n",
       "    </tr>\n",
       "  </thead>\n",
       "  <tbody>\n",
       "    <tr>\n",
       "      <th>0</th>\n",
       "      <td>F</td>\n",
       "      <td>2016-04-29T18:38:08Z</td>\n",
       "      <td>2016-04-29T00:00:00Z</td>\n",
       "      <td>62</td>\n",
       "      <td>JARDIM DA PENHA</td>\n",
       "      <td>0</td>\n",
       "      <td>1</td>\n",
       "      <td>0</td>\n",
       "      <td>0</td>\n",
       "      <td>0</td>\n",
       "      <td>0</td>\n",
       "      <td>No</td>\n",
       "    </tr>\n",
       "    <tr>\n",
       "      <th>1</th>\n",
       "      <td>M</td>\n",
       "      <td>2016-04-29T16:08:27Z</td>\n",
       "      <td>2016-04-29T00:00:00Z</td>\n",
       "      <td>56</td>\n",
       "      <td>JARDIM DA PENHA</td>\n",
       "      <td>0</td>\n",
       "      <td>0</td>\n",
       "      <td>0</td>\n",
       "      <td>0</td>\n",
       "      <td>0</td>\n",
       "      <td>0</td>\n",
       "      <td>No</td>\n",
       "    </tr>\n",
       "    <tr>\n",
       "      <th>2</th>\n",
       "      <td>F</td>\n",
       "      <td>2016-04-29T16:19:04Z</td>\n",
       "      <td>2016-04-29T00:00:00Z</td>\n",
       "      <td>62</td>\n",
       "      <td>MATA DA PRAIA</td>\n",
       "      <td>0</td>\n",
       "      <td>0</td>\n",
       "      <td>0</td>\n",
       "      <td>0</td>\n",
       "      <td>0</td>\n",
       "      <td>0</td>\n",
       "      <td>No</td>\n",
       "    </tr>\n",
       "    <tr>\n",
       "      <th>3</th>\n",
       "      <td>F</td>\n",
       "      <td>2016-04-29T17:29:31Z</td>\n",
       "      <td>2016-04-29T00:00:00Z</td>\n",
       "      <td>8</td>\n",
       "      <td>PONTAL DE CAMBURI</td>\n",
       "      <td>0</td>\n",
       "      <td>0</td>\n",
       "      <td>0</td>\n",
       "      <td>0</td>\n",
       "      <td>0</td>\n",
       "      <td>0</td>\n",
       "      <td>No</td>\n",
       "    </tr>\n",
       "    <tr>\n",
       "      <th>4</th>\n",
       "      <td>F</td>\n",
       "      <td>2016-04-29T16:07:23Z</td>\n",
       "      <td>2016-04-29T00:00:00Z</td>\n",
       "      <td>56</td>\n",
       "      <td>JARDIM DA PENHA</td>\n",
       "      <td>0</td>\n",
       "      <td>1</td>\n",
       "      <td>1</td>\n",
       "      <td>0</td>\n",
       "      <td>0</td>\n",
       "      <td>0</td>\n",
       "      <td>No</td>\n",
       "    </tr>\n",
       "  </tbody>\n",
       "</table>\n",
       "</div>"
      ],
      "text/plain": [
       "  gender           booking_day       appointment_day  age      neighbourhood  \\\n",
       "0      F  2016-04-29T18:38:08Z  2016-04-29T00:00:00Z   62    JARDIM DA PENHA   \n",
       "1      M  2016-04-29T16:08:27Z  2016-04-29T00:00:00Z   56    JARDIM DA PENHA   \n",
       "2      F  2016-04-29T16:19:04Z  2016-04-29T00:00:00Z   62      MATA DA PRAIA   \n",
       "3      F  2016-04-29T17:29:31Z  2016-04-29T00:00:00Z    8  PONTAL DE CAMBURI   \n",
       "4      F  2016-04-29T16:07:23Z  2016-04-29T00:00:00Z   56    JARDIM DA PENHA   \n",
       "\n",
       "   scholarship  hypertensive  diabetic  alcoholic  disabled  sms_received  \\\n",
       "0            0             1         0          0         0             0   \n",
       "1            0             0         0          0         0             0   \n",
       "2            0             0         0          0         0             0   \n",
       "3            0             0         0          0         0             0   \n",
       "4            0             1         1          0         0             0   \n",
       "\n",
       "  absent  \n",
       "0     No  \n",
       "1     No  \n",
       "2     No  \n",
       "3     No  \n",
       "4     No  "
      ]
     },
     "execution_count": 21,
     "metadata": {},
     "output_type": "execute_result"
    }
   ],
   "source": [
    "df.head()"
   ]
  },
  {
   "cell_type": "markdown",
   "metadata": {},
   "source": [
    "> Checking that the newly named columns came out well."
   ]
  },
  {
   "cell_type": "code",
   "execution_count": 22,
   "metadata": {},
   "outputs": [],
   "source": [
    "df['booking_day'] = pd.to_datetime(df['booking_day'])\n",
    "df['appointment_day'] = pd.to_datetime(df['appointment_day'])"
   ]
  },
  {
   "cell_type": "markdown",
   "metadata": {},
   "source": [
    "> The **booking_day** and **appointment_day** appeared as objects in the dataframe, thus they were changed to datetime64[ns] type for better analysis."
   ]
  },
  {
   "cell_type": "code",
   "execution_count": 23,
   "metadata": {},
   "outputs": [],
   "source": [
    "df['scholarship'] = df['scholarship'].astype(bool)\n",
    "df['hypertensive'] = df['hypertensive'].astype(bool)\n",
    "df['diabetic'] = df['diabetic'].astype(bool)\n",
    "df['alcoholic'] = df['alcoholic'].astype(bool)\n",
    "df['disabled'] = df['disabled'].astype(bool)\n",
    "df['sms_received'] = df['sms_received'].astype(bool)\n",
    "df['neighbourhood'] = df['neighbourhood'].astype('category')"
   ]
  },
  {
   "cell_type": "markdown",
   "metadata": {},
   "source": [
    "> The entries that were inputted in binary were changed to boolean and the **neighbourhood** column was changed to categorical form for better understanding and analysis."
   ]
  },
  {
   "cell_type": "code",
   "execution_count": 24,
   "metadata": {},
   "outputs": [
    {
     "name": "stdout",
     "output_type": "stream",
     "text": [
      "<class 'pandas.core.frame.DataFrame'>\n",
      "Int64Index: 110327 entries, 0 to 110526\n",
      "Data columns (total 12 columns):\n",
      "gender             110327 non-null object\n",
      "booking_day        110327 non-null datetime64[ns]\n",
      "appointment_day    110327 non-null datetime64[ns]\n",
      "age                110327 non-null int64\n",
      "neighbourhood      110327 non-null category\n",
      "scholarship        110327 non-null bool\n",
      "hypertensive       110327 non-null bool\n",
      "diabetic           110327 non-null bool\n",
      "alcoholic          110327 non-null bool\n",
      "disabled           110327 non-null bool\n",
      "sms_received       110327 non-null bool\n",
      "absent             110327 non-null object\n",
      "dtypes: bool(6), category(1), datetime64[ns](2), int64(1), object(2)\n",
      "memory usage: 5.8+ MB\n"
     ]
    }
   ],
   "source": [
    "df.info()"
   ]
  },
  {
   "cell_type": "code",
   "execution_count": 25,
   "metadata": {},
   "outputs": [
    {
     "data": {
      "text/html": [
       "<div>\n",
       "<style scoped>\n",
       "    .dataframe tbody tr th:only-of-type {\n",
       "        vertical-align: middle;\n",
       "    }\n",
       "\n",
       "    .dataframe tbody tr th {\n",
       "        vertical-align: top;\n",
       "    }\n",
       "\n",
       "    .dataframe thead th {\n",
       "        text-align: right;\n",
       "    }\n",
       "</style>\n",
       "<table border=\"1\" class=\"dataframe\">\n",
       "  <thead>\n",
       "    <tr style=\"text-align: right;\">\n",
       "      <th></th>\n",
       "      <th>gender</th>\n",
       "      <th>booking_day</th>\n",
       "      <th>appointment_day</th>\n",
       "      <th>age</th>\n",
       "      <th>neighbourhood</th>\n",
       "      <th>scholarship</th>\n",
       "      <th>hypertensive</th>\n",
       "      <th>diabetic</th>\n",
       "      <th>alcoholic</th>\n",
       "      <th>disabled</th>\n",
       "      <th>sms_received</th>\n",
       "      <th>absent</th>\n",
       "    </tr>\n",
       "  </thead>\n",
       "  <tbody>\n",
       "    <tr>\n",
       "      <th>0</th>\n",
       "      <td>F</td>\n",
       "      <td>2016-04-29 18:38:08</td>\n",
       "      <td>2016-04-29</td>\n",
       "      <td>62</td>\n",
       "      <td>JARDIM DA PENHA</td>\n",
       "      <td>False</td>\n",
       "      <td>True</td>\n",
       "      <td>False</td>\n",
       "      <td>False</td>\n",
       "      <td>False</td>\n",
       "      <td>False</td>\n",
       "      <td>No</td>\n",
       "    </tr>\n",
       "    <tr>\n",
       "      <th>1</th>\n",
       "      <td>M</td>\n",
       "      <td>2016-04-29 16:08:27</td>\n",
       "      <td>2016-04-29</td>\n",
       "      <td>56</td>\n",
       "      <td>JARDIM DA PENHA</td>\n",
       "      <td>False</td>\n",
       "      <td>False</td>\n",
       "      <td>False</td>\n",
       "      <td>False</td>\n",
       "      <td>False</td>\n",
       "      <td>False</td>\n",
       "      <td>No</td>\n",
       "    </tr>\n",
       "    <tr>\n",
       "      <th>2</th>\n",
       "      <td>F</td>\n",
       "      <td>2016-04-29 16:19:04</td>\n",
       "      <td>2016-04-29</td>\n",
       "      <td>62</td>\n",
       "      <td>MATA DA PRAIA</td>\n",
       "      <td>False</td>\n",
       "      <td>False</td>\n",
       "      <td>False</td>\n",
       "      <td>False</td>\n",
       "      <td>False</td>\n",
       "      <td>False</td>\n",
       "      <td>No</td>\n",
       "    </tr>\n",
       "    <tr>\n",
       "      <th>3</th>\n",
       "      <td>F</td>\n",
       "      <td>2016-04-29 17:29:31</td>\n",
       "      <td>2016-04-29</td>\n",
       "      <td>8</td>\n",
       "      <td>PONTAL DE CAMBURI</td>\n",
       "      <td>False</td>\n",
       "      <td>False</td>\n",
       "      <td>False</td>\n",
       "      <td>False</td>\n",
       "      <td>False</td>\n",
       "      <td>False</td>\n",
       "      <td>No</td>\n",
       "    </tr>\n",
       "    <tr>\n",
       "      <th>4</th>\n",
       "      <td>F</td>\n",
       "      <td>2016-04-29 16:07:23</td>\n",
       "      <td>2016-04-29</td>\n",
       "      <td>56</td>\n",
       "      <td>JARDIM DA PENHA</td>\n",
       "      <td>False</td>\n",
       "      <td>True</td>\n",
       "      <td>True</td>\n",
       "      <td>False</td>\n",
       "      <td>False</td>\n",
       "      <td>False</td>\n",
       "      <td>No</td>\n",
       "    </tr>\n",
       "  </tbody>\n",
       "</table>\n",
       "</div>"
      ],
      "text/plain": [
       "  gender         booking_day appointment_day  age      neighbourhood  \\\n",
       "0      F 2016-04-29 18:38:08      2016-04-29   62    JARDIM DA PENHA   \n",
       "1      M 2016-04-29 16:08:27      2016-04-29   56    JARDIM DA PENHA   \n",
       "2      F 2016-04-29 16:19:04      2016-04-29   62      MATA DA PRAIA   \n",
       "3      F 2016-04-29 17:29:31      2016-04-29    8  PONTAL DE CAMBURI   \n",
       "4      F 2016-04-29 16:07:23      2016-04-29   56    JARDIM DA PENHA   \n",
       "\n",
       "   scholarship  hypertensive  diabetic  alcoholic  disabled  sms_received  \\\n",
       "0        False          True     False      False     False         False   \n",
       "1        False         False     False      False     False         False   \n",
       "2        False         False     False      False     False         False   \n",
       "3        False         False     False      False     False         False   \n",
       "4        False          True      True      False     False         False   \n",
       "\n",
       "  absent  \n",
       "0     No  \n",
       "1     No  \n",
       "2     No  \n",
       "3     No  \n",
       "4     No  "
      ]
     },
     "execution_count": 25,
     "metadata": {},
     "output_type": "execute_result"
    }
   ],
   "source": [
    "df.head()"
   ]
  },
  {
   "cell_type": "markdown",
   "metadata": {},
   "source": [
    "> Time did not show in the **appointment_day** column because there was no specific time indicated. The appointment was probally a walk-in appointment or based on first-come-first-serve basis."
   ]
  },
  {
   "cell_type": "code",
   "execution_count": 26,
   "metadata": {},
   "outputs": [
    {
     "data": {
      "text/html": [
       "<div>\n",
       "<style scoped>\n",
       "    .dataframe tbody tr th:only-of-type {\n",
       "        vertical-align: middle;\n",
       "    }\n",
       "\n",
       "    .dataframe tbody tr th {\n",
       "        vertical-align: top;\n",
       "    }\n",
       "\n",
       "    .dataframe thead th {\n",
       "        text-align: right;\n",
       "    }\n",
       "</style>\n",
       "<table border=\"1\" class=\"dataframe\">\n",
       "  <thead>\n",
       "    <tr style=\"text-align: right;\">\n",
       "      <th></th>\n",
       "      <th>age</th>\n",
       "    </tr>\n",
       "  </thead>\n",
       "  <tbody>\n",
       "    <tr>\n",
       "      <th>count</th>\n",
       "      <td>110327.000000</td>\n",
       "    </tr>\n",
       "    <tr>\n",
       "      <th>mean</th>\n",
       "      <td>37.070753</td>\n",
       "    </tr>\n",
       "    <tr>\n",
       "      <th>std</th>\n",
       "      <td>23.098052</td>\n",
       "    </tr>\n",
       "    <tr>\n",
       "      <th>min</th>\n",
       "      <td>0.000000</td>\n",
       "    </tr>\n",
       "    <tr>\n",
       "      <th>25%</th>\n",
       "      <td>18.000000</td>\n",
       "    </tr>\n",
       "    <tr>\n",
       "      <th>50%</th>\n",
       "      <td>37.000000</td>\n",
       "    </tr>\n",
       "    <tr>\n",
       "      <th>75%</th>\n",
       "      <td>55.000000</td>\n",
       "    </tr>\n",
       "    <tr>\n",
       "      <th>max</th>\n",
       "      <td>115.000000</td>\n",
       "    </tr>\n",
       "  </tbody>\n",
       "</table>\n",
       "</div>"
      ],
      "text/plain": [
       "                 age\n",
       "count  110327.000000\n",
       "mean       37.070753\n",
       "std        23.098052\n",
       "min         0.000000\n",
       "25%        18.000000\n",
       "50%        37.000000\n",
       "75%        55.000000\n",
       "max       115.000000"
      ]
     },
     "execution_count": 26,
     "metadata": {},
     "output_type": "execute_result"
    }
   ],
   "source": [
    "df.describe()"
   ]
  },
  {
   "cell_type": "code",
   "execution_count": 27,
   "metadata": {},
   "outputs": [
    {
     "data": {
      "text/html": [
       "<div>\n",
       "<style scoped>\n",
       "    .dataframe tbody tr th:only-of-type {\n",
       "        vertical-align: middle;\n",
       "    }\n",
       "\n",
       "    .dataframe tbody tr th {\n",
       "        vertical-align: top;\n",
       "    }\n",
       "\n",
       "    .dataframe thead th {\n",
       "        text-align: right;\n",
       "    }\n",
       "</style>\n",
       "<table border=\"1\" class=\"dataframe\">\n",
       "  <thead>\n",
       "    <tr style=\"text-align: right;\">\n",
       "      <th></th>\n",
       "      <th>gender</th>\n",
       "      <th>booking_day</th>\n",
       "      <th>appointment_day</th>\n",
       "      <th>neighbourhood</th>\n",
       "      <th>scholarship</th>\n",
       "      <th>hypertensive</th>\n",
       "      <th>diabetic</th>\n",
       "      <th>alcoholic</th>\n",
       "      <th>disabled</th>\n",
       "      <th>sms_received</th>\n",
       "      <th>absent</th>\n",
       "    </tr>\n",
       "  </thead>\n",
       "  <tbody>\n",
       "    <tr>\n",
       "      <th>count</th>\n",
       "      <td>110327</td>\n",
       "      <td>110327</td>\n",
       "      <td>110327</td>\n",
       "      <td>110327</td>\n",
       "      <td>110327</td>\n",
       "      <td>110327</td>\n",
       "      <td>110327</td>\n",
       "      <td>110327</td>\n",
       "      <td>110327</td>\n",
       "      <td>110327</td>\n",
       "      <td>110327</td>\n",
       "    </tr>\n",
       "    <tr>\n",
       "      <th>unique</th>\n",
       "      <td>2</td>\n",
       "      <td>103368</td>\n",
       "      <td>27</td>\n",
       "      <td>81</td>\n",
       "      <td>2</td>\n",
       "      <td>2</td>\n",
       "      <td>2</td>\n",
       "      <td>2</td>\n",
       "      <td>2</td>\n",
       "      <td>2</td>\n",
       "      <td>2</td>\n",
       "    </tr>\n",
       "    <tr>\n",
       "      <th>top</th>\n",
       "      <td>F</td>\n",
       "      <td>2016-05-06 07:09:54</td>\n",
       "      <td>2016-06-06 00:00:00</td>\n",
       "      <td>JARDIM CAMBURI</td>\n",
       "      <td>False</td>\n",
       "      <td>False</td>\n",
       "      <td>False</td>\n",
       "      <td>False</td>\n",
       "      <td>False</td>\n",
       "      <td>False</td>\n",
       "      <td>No</td>\n",
       "    </tr>\n",
       "    <tr>\n",
       "      <th>freq</th>\n",
       "      <td>71730</td>\n",
       "      <td>24</td>\n",
       "      <td>4686</td>\n",
       "      <td>7717</td>\n",
       "      <td>99484</td>\n",
       "      <td>88611</td>\n",
       "      <td>102427</td>\n",
       "      <td>106975</td>\n",
       "      <td>108285</td>\n",
       "      <td>74892</td>\n",
       "      <td>88049</td>\n",
       "    </tr>\n",
       "    <tr>\n",
       "      <th>first</th>\n",
       "      <td>NaN</td>\n",
       "      <td>2015-11-10 07:13:56</td>\n",
       "      <td>2016-04-29 00:00:00</td>\n",
       "      <td>NaN</td>\n",
       "      <td>NaN</td>\n",
       "      <td>NaN</td>\n",
       "      <td>NaN</td>\n",
       "      <td>NaN</td>\n",
       "      <td>NaN</td>\n",
       "      <td>NaN</td>\n",
       "      <td>NaN</td>\n",
       "    </tr>\n",
       "    <tr>\n",
       "      <th>last</th>\n",
       "      <td>NaN</td>\n",
       "      <td>2016-06-08 20:07:23</td>\n",
       "      <td>2016-06-08 00:00:00</td>\n",
       "      <td>NaN</td>\n",
       "      <td>NaN</td>\n",
       "      <td>NaN</td>\n",
       "      <td>NaN</td>\n",
       "      <td>NaN</td>\n",
       "      <td>NaN</td>\n",
       "      <td>NaN</td>\n",
       "      <td>NaN</td>\n",
       "    </tr>\n",
       "  </tbody>\n",
       "</table>\n",
       "</div>"
      ],
      "text/plain": [
       "        gender          booking_day      appointment_day   neighbourhood  \\\n",
       "count   110327               110327               110327          110327   \n",
       "unique       2               103368                   27              81   \n",
       "top          F  2016-05-06 07:09:54  2016-06-06 00:00:00  JARDIM CAMBURI   \n",
       "freq     71730                   24                 4686            7717   \n",
       "first      NaN  2015-11-10 07:13:56  2016-04-29 00:00:00             NaN   \n",
       "last       NaN  2016-06-08 20:07:23  2016-06-08 00:00:00             NaN   \n",
       "\n",
       "       scholarship hypertensive diabetic alcoholic disabled sms_received  \\\n",
       "count       110327       110327   110327    110327   110327       110327   \n",
       "unique           2            2        2         2        2            2   \n",
       "top          False        False    False     False    False        False   \n",
       "freq         99484        88611   102427    106975   108285        74892   \n",
       "first          NaN          NaN      NaN       NaN      NaN          NaN   \n",
       "last           NaN          NaN      NaN       NaN      NaN          NaN   \n",
       "\n",
       "        absent  \n",
       "count   110327  \n",
       "unique       2  \n",
       "top         No  \n",
       "freq     88049  \n",
       "first      NaN  \n",
       "last       NaN  "
      ]
     },
     "execution_count": 27,
     "metadata": {},
     "output_type": "execute_result"
    }
   ],
   "source": [
    "df.describe(exclude=[np.number])"
   ]
  },
  {
   "cell_type": "markdown",
   "metadata": {},
   "source": [
    "> The above 4 cells are just assessing operations run again to confirm that changes have been applied and the dataframe cleaned and ready for use."
   ]
  },
  {
   "cell_type": "markdown",
   "metadata": {},
   "source": [
    "<a id='eda'></a>\n",
    "## Exploratory Data Analysis\n",
    "\n",
    "\n",
    "### Research Question 1: Does the waiting interval affect the rate of no show?"
   ]
  },
  {
   "cell_type": "markdown",
   "metadata": {},
   "source": [
    "To answer this question, a new column containing the interval (difference) between the **appointmen_day** and the **booking_day** has to be created to work with. This new column will be labeled **waiting_period**."
   ]
  },
  {
   "cell_type": "code",
   "execution_count": 28,
   "metadata": {},
   "outputs": [],
   "source": [
    "df['waiting_period'] = df['appointment_day'].dt.date.sub(df['booking_day'].dt.date, axis=0)"
   ]
  },
  {
   "cell_type": "code",
   "execution_count": 29,
   "metadata": {},
   "outputs": [
    {
     "data": {
      "text/html": [
       "<div>\n",
       "<style scoped>\n",
       "    .dataframe tbody tr th:only-of-type {\n",
       "        vertical-align: middle;\n",
       "    }\n",
       "\n",
       "    .dataframe tbody tr th {\n",
       "        vertical-align: top;\n",
       "    }\n",
       "\n",
       "    .dataframe thead th {\n",
       "        text-align: right;\n",
       "    }\n",
       "</style>\n",
       "<table border=\"1\" class=\"dataframe\">\n",
       "  <thead>\n",
       "    <tr style=\"text-align: right;\">\n",
       "      <th></th>\n",
       "      <th>gender</th>\n",
       "      <th>booking_day</th>\n",
       "      <th>appointment_day</th>\n",
       "      <th>age</th>\n",
       "      <th>neighbourhood</th>\n",
       "      <th>scholarship</th>\n",
       "      <th>hypertensive</th>\n",
       "      <th>diabetic</th>\n",
       "      <th>alcoholic</th>\n",
       "      <th>disabled</th>\n",
       "      <th>sms_received</th>\n",
       "      <th>absent</th>\n",
       "      <th>waiting_period</th>\n",
       "    </tr>\n",
       "  </thead>\n",
       "  <tbody>\n",
       "    <tr>\n",
       "      <th>0</th>\n",
       "      <td>F</td>\n",
       "      <td>2016-04-29 18:38:08</td>\n",
       "      <td>2016-04-29</td>\n",
       "      <td>62</td>\n",
       "      <td>JARDIM DA PENHA</td>\n",
       "      <td>False</td>\n",
       "      <td>True</td>\n",
       "      <td>False</td>\n",
       "      <td>False</td>\n",
       "      <td>False</td>\n",
       "      <td>False</td>\n",
       "      <td>No</td>\n",
       "      <td>0 days</td>\n",
       "    </tr>\n",
       "    <tr>\n",
       "      <th>1</th>\n",
       "      <td>M</td>\n",
       "      <td>2016-04-29 16:08:27</td>\n",
       "      <td>2016-04-29</td>\n",
       "      <td>56</td>\n",
       "      <td>JARDIM DA PENHA</td>\n",
       "      <td>False</td>\n",
       "      <td>False</td>\n",
       "      <td>False</td>\n",
       "      <td>False</td>\n",
       "      <td>False</td>\n",
       "      <td>False</td>\n",
       "      <td>No</td>\n",
       "      <td>0 days</td>\n",
       "    </tr>\n",
       "    <tr>\n",
       "      <th>2</th>\n",
       "      <td>F</td>\n",
       "      <td>2016-04-29 16:19:04</td>\n",
       "      <td>2016-04-29</td>\n",
       "      <td>62</td>\n",
       "      <td>MATA DA PRAIA</td>\n",
       "      <td>False</td>\n",
       "      <td>False</td>\n",
       "      <td>False</td>\n",
       "      <td>False</td>\n",
       "      <td>False</td>\n",
       "      <td>False</td>\n",
       "      <td>No</td>\n",
       "      <td>0 days</td>\n",
       "    </tr>\n",
       "    <tr>\n",
       "      <th>3</th>\n",
       "      <td>F</td>\n",
       "      <td>2016-04-29 17:29:31</td>\n",
       "      <td>2016-04-29</td>\n",
       "      <td>8</td>\n",
       "      <td>PONTAL DE CAMBURI</td>\n",
       "      <td>False</td>\n",
       "      <td>False</td>\n",
       "      <td>False</td>\n",
       "      <td>False</td>\n",
       "      <td>False</td>\n",
       "      <td>False</td>\n",
       "      <td>No</td>\n",
       "      <td>0 days</td>\n",
       "    </tr>\n",
       "    <tr>\n",
       "      <th>4</th>\n",
       "      <td>F</td>\n",
       "      <td>2016-04-29 16:07:23</td>\n",
       "      <td>2016-04-29</td>\n",
       "      <td>56</td>\n",
       "      <td>JARDIM DA PENHA</td>\n",
       "      <td>False</td>\n",
       "      <td>True</td>\n",
       "      <td>True</td>\n",
       "      <td>False</td>\n",
       "      <td>False</td>\n",
       "      <td>False</td>\n",
       "      <td>No</td>\n",
       "      <td>0 days</td>\n",
       "    </tr>\n",
       "  </tbody>\n",
       "</table>\n",
       "</div>"
      ],
      "text/plain": [
       "  gender         booking_day appointment_day  age      neighbourhood  \\\n",
       "0      F 2016-04-29 18:38:08      2016-04-29   62    JARDIM DA PENHA   \n",
       "1      M 2016-04-29 16:08:27      2016-04-29   56    JARDIM DA PENHA   \n",
       "2      F 2016-04-29 16:19:04      2016-04-29   62      MATA DA PRAIA   \n",
       "3      F 2016-04-29 17:29:31      2016-04-29    8  PONTAL DE CAMBURI   \n",
       "4      F 2016-04-29 16:07:23      2016-04-29   56    JARDIM DA PENHA   \n",
       "\n",
       "   scholarship  hypertensive  diabetic  alcoholic  disabled  sms_received  \\\n",
       "0        False          True     False      False     False         False   \n",
       "1        False         False     False      False     False         False   \n",
       "2        False         False     False      False     False         False   \n",
       "3        False         False     False      False     False         False   \n",
       "4        False          True      True      False     False         False   \n",
       "\n",
       "  absent waiting_period  \n",
       "0     No         0 days  \n",
       "1     No         0 days  \n",
       "2     No         0 days  \n",
       "3     No         0 days  \n",
       "4     No         0 days  "
      ]
     },
     "execution_count": 29,
     "metadata": {},
     "output_type": "execute_result"
    }
   ],
   "source": [
    "df.head()"
   ]
  },
  {
   "cell_type": "markdown",
   "metadata": {},
   "source": [
    "> The **waiting_period** was set to be displayed in days using `dt.date` and not hours for easier working and analysis."
   ]
  },
  {
   "cell_type": "code",
   "execution_count": 30,
   "metadata": {},
   "outputs": [
    {
     "name": "stdout",
     "output_type": "stream",
     "text": [
      "<class 'pandas.core.frame.DataFrame'>\n",
      "Int64Index: 110327 entries, 0 to 110526\n",
      "Data columns (total 13 columns):\n",
      "gender             110327 non-null object\n",
      "booking_day        110327 non-null datetime64[ns]\n",
      "appointment_day    110327 non-null datetime64[ns]\n",
      "age                110327 non-null int64\n",
      "neighbourhood      110327 non-null category\n",
      "scholarship        110327 non-null bool\n",
      "hypertensive       110327 non-null bool\n",
      "diabetic           110327 non-null bool\n",
      "alcoholic          110327 non-null bool\n",
      "disabled           110327 non-null bool\n",
      "sms_received       110327 non-null bool\n",
      "absent             110327 non-null object\n",
      "waiting_period     110327 non-null timedelta64[ns]\n",
      "dtypes: bool(6), category(1), datetime64[ns](2), int64(1), object(2), timedelta64[ns](1)\n",
      "memory usage: 6.6+ MB\n"
     ]
    }
   ],
   "source": [
    "df.info()"
   ]
  },
  {
   "cell_type": "markdown",
   "metadata": {},
   "source": [
    "> As seen in the output above, the waiting_period column is in timedelta64[ns] format and will be difficult to work with.  \n",
    "  \n",
    "To plot and explore the relationship between waiting time and patient's turn up, we have to change the waiting_time data type from timedelta64[ns] to int64.  \n",
    "This action is done in the code in the next cell."
   ]
  },
  {
   "cell_type": "code",
   "execution_count": 31,
   "metadata": {},
   "outputs": [],
   "source": [
    "df['waiting_period'] = df['waiting_period'].dt.days"
   ]
  },
  {
   "cell_type": "code",
   "execution_count": 32,
   "metadata": {},
   "outputs": [
    {
     "data": {
      "text/plain": [
       "count    110327.000000\n",
       "mean         10.186971\n",
       "std          15.257836\n",
       "min          -6.000000\n",
       "25%           0.000000\n",
       "50%           4.000000\n",
       "75%          15.000000\n",
       "max         179.000000\n",
       "Name: waiting_period, dtype: float64"
      ]
     },
     "execution_count": 32,
     "metadata": {},
     "output_type": "execute_result"
    }
   ],
   "source": [
    "df['waiting_period'].describe()"
   ]
  },
  {
   "cell_type": "markdown",
   "metadata": {},
   "source": [
    "> A brief check on the description for the column. As seen, the minimum value in the column is **-6**. This can only happen if a patient called in and was given a date that has already passed or there was a mix up between their **booking_day** and **appointmnet_day**. Futher assessing will determine if the number of entries falling under the negative side of the number line will be dropped or worked on."
   ]
  },
  {
   "cell_type": "code",
   "execution_count": 33,
   "metadata": {},
   "outputs": [
    {
     "data": {
      "text/plain": [
       " 0      38485\n",
       " 2       6712\n",
       " 4       5279\n",
       " 1       5204\n",
       " 7       4904\n",
       " 6       4028\n",
       " 5       3266\n",
       " 14      2906\n",
       " 3       2730\n",
       " 8       2328\n",
       " 21      1859\n",
       " 28      1704\n",
       " 13      1681\n",
       " 9       1605\n",
       " 15      1501\n",
       " 10      1388\n",
       " 20      1184\n",
       " 22      1171\n",
       " 16      1148\n",
       " 12      1113\n",
       " 17      1105\n",
       " 29      1087\n",
       " 19      1043\n",
       " 18      1017\n",
       " 27      1012\n",
       " 11       987\n",
       " 35       962\n",
       " 23       820\n",
       " 34       806\n",
       " 26       730\n",
       "        ...  \n",
       " 98         5\n",
       " 112        5\n",
       " 103        5\n",
       " 109        5\n",
       " 108        5\n",
       " 102        4\n",
       "-1          4\n",
       " 105        4\n",
       " 96         4\n",
       " 119        4\n",
       " 122        3\n",
       " 92         3\n",
       " 115        2\n",
       " 93         2\n",
       " 110        2\n",
       " 107        2\n",
       " 97         2\n",
       " 94         2\n",
       " 123        1\n",
       " 101        1\n",
       " 126        1\n",
       " 125        1\n",
       " 139        1\n",
       " 151        1\n",
       " 132        1\n",
       " 117        1\n",
       " 146        1\n",
       " 82         1\n",
       "-6          1\n",
       " 127        1\n",
       "Name: waiting_period, Length: 131, dtype: int64"
      ]
     },
     "execution_count": 33,
     "metadata": {},
     "output_type": "execute_result"
    }
   ],
   "source": [
    "df.waiting_period.value_counts()"
   ]
  },
  {
   "cell_type": "code",
   "execution_count": 34,
   "metadata": {},
   "outputs": [
    {
     "data": {
      "text/plain": [
       "gender             5\n",
       "booking_day        5\n",
       "appointment_day    5\n",
       "age                5\n",
       "neighbourhood      5\n",
       "scholarship        5\n",
       "hypertensive       5\n",
       "diabetic           5\n",
       "alcoholic          5\n",
       "disabled           5\n",
       "sms_received       5\n",
       "absent             5\n",
       "waiting_period     5\n",
       "dtype: int64"
      ]
     },
     "execution_count": 34,
     "metadata": {},
     "output_type": "execute_result"
    }
   ],
   "source": [
    "df[df.waiting_period <= -1].count()"
   ]
  },
  {
   "cell_type": "code",
   "execution_count": 35,
   "metadata": {},
   "outputs": [
    {
     "data": {
      "text/html": [
       "<div>\n",
       "<style scoped>\n",
       "    .dataframe tbody tr th:only-of-type {\n",
       "        vertical-align: middle;\n",
       "    }\n",
       "\n",
       "    .dataframe tbody tr th {\n",
       "        vertical-align: top;\n",
       "    }\n",
       "\n",
       "    .dataframe thead th {\n",
       "        text-align: right;\n",
       "    }\n",
       "</style>\n",
       "<table border=\"1\" class=\"dataframe\">\n",
       "  <thead>\n",
       "    <tr style=\"text-align: right;\">\n",
       "      <th></th>\n",
       "      <th>gender</th>\n",
       "      <th>booking_day</th>\n",
       "      <th>appointment_day</th>\n",
       "      <th>age</th>\n",
       "      <th>neighbourhood</th>\n",
       "      <th>scholarship</th>\n",
       "      <th>hypertensive</th>\n",
       "      <th>diabetic</th>\n",
       "      <th>alcoholic</th>\n",
       "      <th>disabled</th>\n",
       "      <th>sms_received</th>\n",
       "      <th>absent</th>\n",
       "      <th>waiting_period</th>\n",
       "    </tr>\n",
       "  </thead>\n",
       "  <tbody>\n",
       "    <tr>\n",
       "      <th>27033</th>\n",
       "      <td>M</td>\n",
       "      <td>2016-05-10 10:51:53</td>\n",
       "      <td>2016-05-09</td>\n",
       "      <td>38</td>\n",
       "      <td>RESISTÊNCIA</td>\n",
       "      <td>False</td>\n",
       "      <td>False</td>\n",
       "      <td>False</td>\n",
       "      <td>False</td>\n",
       "      <td>True</td>\n",
       "      <td>False</td>\n",
       "      <td>Yes</td>\n",
       "      <td>-1</td>\n",
       "    </tr>\n",
       "    <tr>\n",
       "      <th>55226</th>\n",
       "      <td>F</td>\n",
       "      <td>2016-05-18 14:50:41</td>\n",
       "      <td>2016-05-17</td>\n",
       "      <td>19</td>\n",
       "      <td>SANTO ANTÔNIO</td>\n",
       "      <td>False</td>\n",
       "      <td>False</td>\n",
       "      <td>False</td>\n",
       "      <td>False</td>\n",
       "      <td>True</td>\n",
       "      <td>False</td>\n",
       "      <td>Yes</td>\n",
       "      <td>-1</td>\n",
       "    </tr>\n",
       "    <tr>\n",
       "      <th>64175</th>\n",
       "      <td>F</td>\n",
       "      <td>2016-05-05 13:43:58</td>\n",
       "      <td>2016-05-04</td>\n",
       "      <td>22</td>\n",
       "      <td>CONSOLAÇÃO</td>\n",
       "      <td>False</td>\n",
       "      <td>False</td>\n",
       "      <td>False</td>\n",
       "      <td>False</td>\n",
       "      <td>False</td>\n",
       "      <td>False</td>\n",
       "      <td>Yes</td>\n",
       "      <td>-1</td>\n",
       "    </tr>\n",
       "    <tr>\n",
       "      <th>71533</th>\n",
       "      <td>F</td>\n",
       "      <td>2016-05-11 13:49:20</td>\n",
       "      <td>2016-05-05</td>\n",
       "      <td>81</td>\n",
       "      <td>SANTO ANTÔNIO</td>\n",
       "      <td>False</td>\n",
       "      <td>False</td>\n",
       "      <td>False</td>\n",
       "      <td>False</td>\n",
       "      <td>False</td>\n",
       "      <td>False</td>\n",
       "      <td>Yes</td>\n",
       "      <td>-6</td>\n",
       "    </tr>\n",
       "    <tr>\n",
       "      <th>72362</th>\n",
       "      <td>M</td>\n",
       "      <td>2016-05-04 06:50:57</td>\n",
       "      <td>2016-05-03</td>\n",
       "      <td>7</td>\n",
       "      <td>TABUAZEIRO</td>\n",
       "      <td>False</td>\n",
       "      <td>False</td>\n",
       "      <td>False</td>\n",
       "      <td>False</td>\n",
       "      <td>False</td>\n",
       "      <td>False</td>\n",
       "      <td>Yes</td>\n",
       "      <td>-1</td>\n",
       "    </tr>\n",
       "  </tbody>\n",
       "</table>\n",
       "</div>"
      ],
      "text/plain": [
       "      gender         booking_day appointment_day  age  neighbourhood  \\\n",
       "27033      M 2016-05-10 10:51:53      2016-05-09   38    RESISTÊNCIA   \n",
       "55226      F 2016-05-18 14:50:41      2016-05-17   19  SANTO ANTÔNIO   \n",
       "64175      F 2016-05-05 13:43:58      2016-05-04   22     CONSOLAÇÃO   \n",
       "71533      F 2016-05-11 13:49:20      2016-05-05   81  SANTO ANTÔNIO   \n",
       "72362      M 2016-05-04 06:50:57      2016-05-03    7     TABUAZEIRO   \n",
       "\n",
       "       scholarship  hypertensive  diabetic  alcoholic  disabled  sms_received  \\\n",
       "27033        False         False     False      False      True         False   \n",
       "55226        False         False     False      False      True         False   \n",
       "64175        False         False     False      False     False         False   \n",
       "71533        False         False     False      False     False         False   \n",
       "72362        False         False     False      False     False         False   \n",
       "\n",
       "      absent  waiting_period  \n",
       "27033    Yes              -1  \n",
       "55226    Yes              -1  \n",
       "64175    Yes              -1  \n",
       "71533    Yes              -6  \n",
       "72362    Yes              -1  "
      ]
     },
     "execution_count": 35,
     "metadata": {},
     "output_type": "execute_result"
    }
   ],
   "source": [
    "df[df.waiting_period <= -1]"
   ]
  },
  {
   "cell_type": "markdown",
   "metadata": {},
   "source": [
    "> The`.count()` operations show that the number of entries falling below zero are just 5 and not significant enough to cause issues while analysing further and will therefore not be dropped.  \n",
    "It is also seen that all patients falling into this category did not show up for their appointments which is a very valid reason as the date given to them had already passed."
   ]
  },
  {
   "cell_type": "markdown",
   "metadata": {},
   "source": [
    "#### Plotting"
   ]
  },
  {
   "cell_type": "markdown",
   "metadata": {},
   "source": [
    "All plots that will be needed for the analysis of this question will then be done below."
   ]
  },
  {
   "cell_type": "code",
   "execution_count": 36,
   "metadata": {},
   "outputs": [],
   "source": [
    "no_show = df['absent'] == \"Yes\"\n",
    "show = df['absent'] == \"No\""
   ]
  },
  {
   "cell_type": "markdown",
   "metadata": {},
   "source": [
    "> The absent column was filtered by its 2 unique enteries, **Yes** and **No** into two seperate dataframes which will be used as a parameter in our plots to visialize the effects of other variables on the attendance. So, we can clearly see those that attened or not."
   ]
  },
  {
   "cell_type": "code",
   "execution_count": 37,
   "metadata": {},
   "outputs": [
    {
     "data": {
      "image/png": "[encoded data removed]",
      "text/plain": [
       "<matplotlib.figure.Figure at 0x7f744008f9e8>"
      ]
     },
     "metadata": {
      "needs_background": "light"
     },
     "output_type": "display_data"
    }
   ],
   "source": [
    "plt.figure(figsize=(20,10))\n",
    "df[show].waiting_period.hist(alpha=0.5, bins=30,label='came')\n",
    "df[no_show].waiting_period.hist(alpha=0.5, bins=30,label='missed')\n",
    "plt.legend();\n",
    "plt.title(\"Waiting Period Histogram\")\n",
    "plt.xlabel(\"Waiting Period in days\")\n",
    "plt.ylabel('count_w');"
   ]
  },
  {
   "cell_type": "markdown",
   "metadata": {},
   "source": [
    "> The above is a histogram plot showing the relationship between the waiting period and the attendance of patients to their appointmnets.  \n",
    "From this plot, 3 things can be observed:\n",
    "+ The patients that fell into the negative number line on the waiting period axis did not show up at all, which is expected as their appointment days had already passed.\n",
    "+ Patients with shorter waiting period (between 0 to 10 days) had a greater number of people showing up for their appointments than those that were absent.\n",
    "+ For patients with longer waiting period (10 days and above), the ratios of those that missed their appointments to those that came in for their appointments are almost equal when compared based on the number of people that were booked for that period.  \n",
    "\n",
    "More plots and operations will be done to investigate the question further."
   ]
  },
  {
   "cell_type": "markdown",
   "metadata": {},
   "source": [
    "The below operation shows the count of the **absent** column in numbers and divided into bins of 10s."
   ]
  },
  {
   "cell_type": "code",
   "execution_count": 38,
   "metadata": {},
   "outputs": [],
   "source": [
    "bins=[0,10,20,30,40,50,60,70,80,90,100,120,140,160,180]\n",
    "df['waiting_period_bin10'] = pd.cut(df.waiting_period, bins=bins)\n",
    "waiting_period_10_count = df.groupby('waiting_period_bin10')['absent'].value_counts()"
   ]
  },
  {
   "cell_type": "code",
   "execution_count": 39,
   "metadata": {},
   "outputs": [
    {
     "data": {
      "text/plain": [
       "waiting_period_bin10  absent\n",
       "(0, 10]               No        28139\n",
       "                      Yes        9305\n",
       "(10, 20]              No         9294\n",
       "                      Yes        4391\n",
       "(20, 30]              No         6970\n",
       "                      Yes        3371\n",
       "(30, 40]              No         3404\n",
       "                      Yes        1790\n",
       "(40, 50]              No         1368\n",
       "                      Yes         682\n",
       "(50, 60]              No          679\n",
       "                      Yes         353\n",
       "(60, 70]              No          871\n",
       "                      Yes         338\n",
       "(70, 80]              No          300\n",
       "                      Yes         143\n",
       "(80, 90]              No          166\n",
       "                      Yes          56\n",
       "(90, 100]             No           64\n",
       "                      Yes          15\n",
       "(100, 120]            No           41\n",
       "                      Yes          12\n",
       "(120, 140]            No           13\n",
       "                      Yes           7\n",
       "(140, 160]            Yes          11\n",
       "                      No            9\n",
       "(160, 180]            No           34\n",
       "                      Yes          11\n",
       "Name: absent, dtype: int64"
      ]
     },
     "execution_count": 39,
     "metadata": {},
     "output_type": "execute_result"
    }
   ],
   "source": [
    "waiting_period_10_count"
   ]
  },
  {
   "cell_type": "markdown",
   "metadata": {},
   "source": [
    "> The count shows that more people attended than missed for each interval."
   ]
  },
  {
   "cell_type": "code",
   "execution_count": 40,
   "metadata": {},
   "outputs": [
    {
     "data": {
      "text/plain": [
       "Text(0.5,1,'Percentage of Missing appointment across waiting periods')"
      ]
     },
     "execution_count": 40,
     "metadata": {},
     "output_type": "execute_result"
    },
    {
     "data": {
      "image/png": "[encoded data removed]",
      "text/plain": [
       "<matplotlib.figure.Figure at 0x7f74497f76d8>"
      ]
     },
     "metadata": {
      "needs_background": "light"
     },
     "output_type": "display_data"
    }
   ],
   "source": [
    "(waiting_period_10_count/waiting_period_10_count.groupby(level=0).sum()*100).unstack().plot(kind=\"bar\",stacked=True)\n",
    "plt.legend(['came','missed']);\n",
    "plt.title(\"Percentage of Missing appointment across waiting periods\")"
   ]
  },
  {
   "cell_type": "markdown",
   "metadata": {},
   "source": [
    "> The percentage plot shows us the distributuion based on percentages. Here we can see that the percentage of people that came in for their appointments for each bin interval was greater than 50% for all appointment day intervals except for the period of 140 days to 160 days where the percentage of patients that came in for their appointments fell a little below 50%."
   ]
  },
  {
   "cell_type": "markdown",
   "metadata": {},
   "source": [
    "From this analysis, it can be said that waiting_period has no effect on whether the patient is absent or present."
   ]
  },
  {
   "cell_type": "markdown",
   "metadata": {},
   "source": [
    "### Research Question 2 : What other factors are important in the prediction of a patient's No-show status?\n"
   ]
  },
  {
   "cell_type": "markdown",
   "metadata": {},
   "source": [
    "The other independent variables remaining on the edited dataset will then be plotted and analysed against the dependent variable (**absent**) to determine which is more useful for the prediction of a patient's turn up on the appointment day.  \n",
    "The remaining variables include: \n",
    "+ age\n",
    "+ neighbourhood\n",
    "+ gender\n",
    "+ scholarship\n",
    "+ hypertensive\n",
    "+ diabetic\n",
    "+ alcoholic\n",
    "+ received_sms\n",
    "+ disabled"
   ]
  },
  {
   "cell_type": "markdown",
   "metadata": {},
   "source": [
    "+ **Age**"
   ]
  },
  {
   "cell_type": "code",
   "execution_count": 41,
   "metadata": {},
   "outputs": [],
   "source": [
    "bins=[0,10,20,30,40,50,60,70,80,90,100,110,120]\n",
    "df['age_bin10'] = pd.cut(df.age, bins=bins)\n",
    "age10_count = df.groupby('age_bin10')['absent'].value_counts()"
   ]
  },
  {
   "cell_type": "code",
   "execution_count": 42,
   "metadata": {},
   "outputs": [
    {
     "data": {
      "text/plain": [
       "age_bin10   absent\n",
       "(0, 10]     No        12050\n",
       "            Yes        3146\n",
       "(10, 20]    No         9758\n",
       "            Yes        3304\n",
       "(20, 30]    No        10379\n",
       "            Yes        3392\n",
       "(30, 40]    No        11799\n",
       "            Yes        3228\n",
       "(40, 50]    No        11534\n",
       "            Yes        2868\n",
       "(50, 60]    No        12926\n",
       "            Yes        2713\n",
       "(60, 70]    No         9522\n",
       "            Yes        1645\n",
       "(70, 80]    No         4823\n",
       "            Yes         887\n",
       "(80, 90]    No         2115\n",
       "            Yes         394\n",
       "(90, 100]   No          239\n",
       "            Yes          59\n",
       "(100, 110]  No            2\n",
       "(110, 120]  Yes           3\n",
       "            No            2\n",
       "Name: absent, dtype: int64"
      ]
     },
     "execution_count": 42,
     "metadata": {},
     "output_type": "execute_result"
    }
   ],
   "source": [
    "age10_count"
   ]
  },
  {
   "cell_type": "code",
   "execution_count": 43,
   "metadata": {},
   "outputs": [
    {
     "data": {
      "text/plain": [
       "Text(0.5,1,'Percentage of Missing appointment across ages')"
      ]
     },
     "execution_count": 43,
     "metadata": {},
     "output_type": "execute_result"
    },
    {
     "data": {
      "image/png": "[encoded data removed]",
      "text/plain": [
       "<matplotlib.figure.Figure at 0x7f7440897be0>"
      ]
     },
     "metadata": {
      "needs_background": "light"
     },
     "output_type": "display_data"
    }
   ],
   "source": [
    "(age10_count/age10_count.groupby(level=0).sum()*100).unstack().plot(kind=\"bar\",stacked=True)\n",
    "plt.legend(['came','missed']);\n",
    "plt.title(\"Percentage of Missing appointment across ages\")"
   ]
  },
  {
   "cell_type": "markdown",
   "metadata": {},
   "source": [
    "> From the above analysis done for age, people of all ages have a high percentage of being present for their appointments rather than being absent. Therefore, we can say that there is no predictive relationship between age and a patient being absent or present."
   ]
  },
  {
   "cell_type": "markdown",
   "metadata": {},
   "source": [
    "  "
   ]
  },
  {
   "cell_type": "markdown",
   "metadata": {},
   "source": [
    "For the other independent variables, we will be using bar plots and percentage counts. For this reason, functions will be created for both to avoid repitition."
   ]
  },
  {
   "cell_type": "code",
   "execution_count": 44,
   "metadata": {},
   "outputs": [],
   "source": [
    "def categorical_bar_plot(df, predictor, variable, xlabel, ylabel, title):\n",
    "    no_show = df[predictor] == \"Yes\"\n",
    "    show = df[predictor] == \"No\"\n",
    "    \n",
    "    counts = df[variable].value_counts().to_dict()\n",
    "    variable_cat = list(counts.keys())\n",
    "\n",
    "    came = df[show][variable].value_counts()\n",
    "    missed = df[no_show][variable].value_counts()\n",
    "\n",
    "    width = 0.4\n",
    "    values = np.arange(len(variable_cat))\n",
    "    \n",
    "    plt.figure(figsize=(20,10))\n",
    "\n",
    "    plt.bar(values, came, width, label='came')\n",
    "    plt.bar(values + width, missed, width, label='missed')\n",
    "\n",
    "    plt.title(title)\n",
    "    plt.xlabel(xlabel)\n",
    "    plt.ylabel(ylabel)\n",
    "\n",
    "    plt.xticks(values+0.2, variable_cat, rotation=90)\n",
    "    plt.legend()\n",
    "    plt.show()"
   ]
  },
  {
   "cell_type": "code",
   "execution_count": 45,
   "metadata": {},
   "outputs": [],
   "source": [
    "def percentage(df, predictor, variable):\n",
    "    perc = df.groupby([variable])[predictor].value_counts(normalize=True).round(4) * 100\n",
    "    return perc"
   ]
  },
  {
   "cell_type": "markdown",
   "metadata": {},
   "source": [
    "+ **Neighbourhood**"
   ]
  },
  {
   "cell_type": "code",
   "execution_count": 46,
   "metadata": {},
   "outputs": [
    {
     "data": {
      "image/png": "[encoded data removed]",
      "text/plain": [
       "<matplotlib.figure.Figure at 0x7f7440824390>"
      ]
     },
     "metadata": {
      "needs_background": "light"
     },
     "output_type": "display_data"
    }
   ],
   "source": [
    "#plot of neighbourhood\n",
    "categorical_bar_plot(df, predictor=\"absent\", variable=\"neighbourhood\", xlabel=\"neighbourhood\", ylabel='Number of people', title=\"Plot of appointment attended/missed with respect to neighbourhood\")"
   ]
  },
  {
   "cell_type": "markdown",
   "metadata": {},
   "source": [
    "> The neighbourhood bar chart shows that some neighbourhoods have higher number of patients who booked appointments, but the number of absent patients is lower than the number of those who came in for their appointment and is proportional in all neighbourhoods when compared to the number of people who booked from each neighbourhood.  \n",
    "\n",
    "The analysis shows no predictive relationship between a patients absent status and the neighbourhood."
   ]
  },
  {
   "cell_type": "markdown",
   "metadata": {},
   "source": [
    "+ **Gender**"
   ]
  },
  {
   "cell_type": "code",
   "execution_count": 47,
   "metadata": {},
   "outputs": [
    {
     "data": {
      "image/png": "[encoded data removed]",
      "text/plain": [
       "<matplotlib.figure.Figure at 0x7f74407a7c88>"
      ]
     },
     "metadata": {
      "needs_background": "light"
     },
     "output_type": "display_data"
    }
   ],
   "source": [
    "#plot of gender\n",
    "categorical_bar_plot(df, predictor=\"absent\", variable=\"gender\", xlabel=\"gender\", ylabel='Number of people', title=\"Plot of appointment attended/missed with respect to gender\")"
   ]
  },
  {
   "cell_type": "code",
   "execution_count": 48,
   "metadata": {},
   "outputs": [
    {
     "data": {
      "text/plain": [
       "gender  absent\n",
       "F       No        79.69\n",
       "        Yes       20.31\n",
       "M       No        80.02\n",
       "        Yes       19.98\n",
       "Name: absent, dtype: float64"
      ]
     },
     "execution_count": 48,
     "metadata": {},
     "output_type": "execute_result"
    }
   ],
   "source": [
    "percentage(df, 'absent', 'gender')"
   ]
  },
  {
   "cell_type": "markdown",
   "metadata": {},
   "source": [
    "> More females booked for appointments thus the number of females who did not miss their appointments are higher, but when compared in percentages, the number of absent patients for both male and female are 20.31% and 19.98% respectively which is almost the same.  \n",
    "\n",
    "The analysis shows no predictive relationship between a patients absent status and the gender."
   ]
  },
  {
   "cell_type": "markdown",
   "metadata": {},
   "source": [
    "+ **Scholarship**"
   ]
  },
  {
   "cell_type": "code",
   "execution_count": 49,
   "metadata": {},
   "outputs": [
    {
     "data": {
      "image/png": "[encoded data removed]",
      "text/plain": [
       "<matplotlib.figure.Figure at 0x7f744059fd30>"
      ]
     },
     "metadata": {
      "needs_background": "light"
     },
     "output_type": "display_data"
    }
   ],
   "source": [
    "#plot of scholarship\n",
    "categorical_bar_plot(df, predictor=\"absent\", variable=\"scholarship\", xlabel=\"scholarship\", ylabel='Number of people', title=\"Plot of appointment attended/missed with respect to scholarship\")"
   ]
  },
  {
   "cell_type": "code",
   "execution_count": 50,
   "metadata": {},
   "outputs": [
    {
     "data": {
      "text/plain": [
       "scholarship  absent\n",
       "False        No        80.20\n",
       "             Yes       19.80\n",
       "True         No        76.23\n",
       "             Yes       23.77\n",
       "Name: absent, dtype: float64"
      ]
     },
     "execution_count": 50,
     "metadata": {},
     "output_type": "execute_result"
    }
   ],
   "source": [
    "percentage(df, \"absent\", \"scholarship\")"
   ]
  },
  {
   "cell_type": "markdown",
   "metadata": {},
   "source": [
    ">From the percentage count, it is seen that the percentage of absent patients are on the same level for both those patients who have scholarships and those that do not irrespective of the total number.  \n",
    "\n",
    "The analysis shows no predictive relationship between a patients absent status and scholarship status."
   ]
  },
  {
   "cell_type": "markdown",
   "metadata": {},
   "source": [
    "+ **Hypertensive**"
   ]
  },
  {
   "cell_type": "code",
   "execution_count": 51,
   "metadata": {},
   "outputs": [
    {
     "data": {
      "image/png": "[encoded data removed]",
      "text/plain": [
       "<matplotlib.figure.Figure at 0x7f74405f32b0>"
      ]
     },
     "metadata": {
      "needs_background": "light"
     },
     "output_type": "display_data"
    }
   ],
   "source": [
    "#plot of hypertensive\n",
    "categorical_bar_plot(df, predictor=\"absent\", variable=\"hypertensive\", xlabel=\"hypertensive\", ylabel='Number of people', title=\"Plot of appointment attended/missed with respect to hypertensive\")"
   ]
  },
  {
   "cell_type": "code",
   "execution_count": 52,
   "metadata": {},
   "outputs": [
    {
     "data": {
      "text/plain": [
       "hypertensive  absent\n",
       "False         No        79.09\n",
       "              Yes       20.91\n",
       "True          No        82.74\n",
       "              Yes       17.26\n",
       "Name: absent, dtype: float64"
      ]
     },
     "execution_count": 52,
     "metadata": {},
     "output_type": "execute_result"
    }
   ],
   "source": [
    "percentage(df, \"absent\", \"hypertensive\")"
   ]
  },
  {
   "cell_type": "markdown",
   "metadata": {},
   "source": [
    "> The analysis shows no predictive relationship between a patients absent status and hypertensive status as both percentages of absent patients for the **True** and **False** sections are low (almost the same value)."
   ]
  },
  {
   "cell_type": "markdown",
   "metadata": {},
   "source": [
    "+ **Diabetic**"
   ]
  },
  {
   "cell_type": "code",
   "execution_count": 53,
   "metadata": {},
   "outputs": [
    {
     "data": {
      "image/png": "[encoded data removed]",
      "text/plain": [
       "<matplotlib.figure.Figure at 0x7f74405a6a90>"
      ]
     },
     "metadata": {
      "needs_background": "light"
     },
     "output_type": "display_data"
    }
   ],
   "source": [
    "#plot of diabetic\n",
    "categorical_bar_plot(df, predictor=\"absent\", variable=\"diabetic\", xlabel=\"diabetic\", ylabel='Number of people', title=\"Plot of appointment attended/missed with respect to diabetic\")"
   ]
  },
  {
   "cell_type": "code",
   "execution_count": 54,
   "metadata": {},
   "outputs": [
    {
     "data": {
      "text/plain": [
       "diabetic  absent\n",
       "False     No        79.64\n",
       "          Yes       20.36\n",
       "True      No        82.00\n",
       "          Yes       18.00\n",
       "Name: absent, dtype: float64"
      ]
     },
     "execution_count": 54,
     "metadata": {},
     "output_type": "execute_result"
    }
   ],
   "source": [
    "percentage(df, \"absent\", \"diabetic\")"
   ]
  },
  {
   "cell_type": "markdown",
   "metadata": {},
   "source": [
    "> The analysis shows no predictive relationship between a patients absent status and diabetic status as both percentages of absent patients for the **True** and **False** sections are low (almost the same value)."
   ]
  },
  {
   "cell_type": "markdown",
   "metadata": {},
   "source": [
    "+ **Alcoholic**"
   ]
  },
  {
   "cell_type": "code",
   "execution_count": 55,
   "metadata": {},
   "outputs": [
    {
     "data": {
      "image/png": "[encoded data removed]",
      "text/plain": [
       "<matplotlib.figure.Figure at 0x7f7440480c18>"
      ]
     },
     "metadata": {
      "needs_background": "light"
     },
     "output_type": "display_data"
    }
   ],
   "source": [
    "#plot of alcoholic\n",
    "categorical_bar_plot(df, predictor=\"absent\", variable=\"alcoholic\", xlabel=\"alcoholic\", ylabel='Number of people', title=\"Plot of appointment attended/missed with respect to alcoholic\")"
   ]
  },
  {
   "cell_type": "code",
   "execution_count": 56,
   "metadata": {},
   "outputs": [
    {
     "data": {
      "text/plain": [
       "alcoholic  absent\n",
       "False      No        79.81\n",
       "           Yes       20.19\n",
       "True       No        79.86\n",
       "           Yes       20.14\n",
       "Name: absent, dtype: float64"
      ]
     },
     "execution_count": 56,
     "metadata": {},
     "output_type": "execute_result"
    }
   ],
   "source": [
    "percentage(df, \"absent\", \"alcoholic\")"
   ]
  },
  {
   "cell_type": "markdown",
   "metadata": {},
   "source": [
    "> The analysis shows no predictive relationship between a patients absent status and alcoholic status as both percentages of absent patients for the **True** and **False** sections are low and the same."
   ]
  },
  {
   "cell_type": "markdown",
   "metadata": {},
   "source": [
    "+ **SMS received**"
   ]
  },
  {
   "cell_type": "code",
   "execution_count": 57,
   "metadata": {},
   "outputs": [
    {
     "data": {
      "image/png": "[encoded data removed]",
      "text/plain": [
       "<matplotlib.figure.Figure at 0x7f744057e2b0>"
      ]
     },
     "metadata": {
      "needs_background": "light"
     },
     "output_type": "display_data"
    }
   ],
   "source": [
    "#plot of sms received\n",
    "categorical_bar_plot(df, predictor=\"absent\", variable=\"sms_received\", xlabel=\"received sms\", ylabel='Number of people', title=\"Plot of appointment attended/missed with respect to those that received sms\")"
   ]
  },
  {
   "cell_type": "code",
   "execution_count": 58,
   "metadata": {},
   "outputs": [
    {
     "data": {
      "text/plain": [
       "sms_received  absent\n",
       "False         No        83.31\n",
       "              Yes       16.69\n",
       "True          No        72.41\n",
       "              Yes       27.59\n",
       "Name: absent, dtype: float64"
      ]
     },
     "execution_count": 58,
     "metadata": {},
     "output_type": "execute_result"
    }
   ],
   "source": [
    "percentage(df, \"absent\", \"sms_received\")"
   ]
  },
  {
   "cell_type": "markdown",
   "metadata": {},
   "source": [
    "> Here we see a slight difference.  \n",
    "More of the patients who received an sms were absent in comparison to those who did not recieve any sms.\n",
    "\n",
    "Thus it can be said that sending an sms does not ascertain that a patient will come in for their appointment and vice versa."
   ]
  },
  {
   "cell_type": "markdown",
   "metadata": {},
   "source": [
    "+ **Disabled**"
   ]
  },
  {
   "cell_type": "code",
   "execution_count": 59,
   "metadata": {},
   "outputs": [
    {
     "data": {
      "image/png": "[encoded data removed]",
      "text/plain": [
       "<matplotlib.figure.Figure at 0x7f7441a7c668>"
      ]
     },
     "metadata": {
      "needs_background": "light"
     },
     "output_type": "display_data"
    }
   ],
   "source": [
    "#plot of disabled\n",
    "categorical_bar_plot(df, predictor=\"absent\", variable=\"disabled\", xlabel=\"disabled\", ylabel='Number of people', title=\"Plot of appointment attended/missed with respect to disabled\")"
   ]
  },
  {
   "cell_type": "code",
   "execution_count": 60,
   "metadata": {},
   "outputs": [
    {
     "data": {
      "text/plain": [
       "disabled  absent\n",
       "False     No        79.76\n",
       "          Yes       20.24\n",
       "True      No        82.08\n",
       "          Yes       17.92\n",
       "Name: absent, dtype: float64"
      ]
     },
     "execution_count": 60,
     "metadata": {},
     "output_type": "execute_result"
    }
   ],
   "source": [
    "percentage(df, \"absent\", \"disabled\")"
   ]
  },
  {
   "cell_type": "markdown",
   "metadata": {},
   "source": [
    "> The analysis shows no predictive relationship between a patients absent status and disabled status."
   ]
  },
  {
   "cell_type": "markdown",
   "metadata": {},
   "source": [
    "<a id='conclusions'></a>\n",
    "## Conclusions and Limitations\n",
    "\n",
    "### Conclusions  \n",
    "\n",
    "+ Both ID columns were dropped as they were not needed for the analysis.\n",
    "\n",
    "+ The analysis on the waiting time period (period between booking day and appointment day) shows that no matter the time period, more patients will show up. An error was however noticed with regards to those patients that were given dates that had already passed. More care should be taken when giving patients appointment days.\n",
    "\n",
    "+ Analysis done on the other independent variables shows no significant importance on the prediction of whether a patient will show up for their appointment or not.\n",
    "\n",
    "+ Further analysis should be done on new variables in order to get a predictive relationship.  \n",
    "\n",
    "\n",
    "### Limitations  \n",
    "\n",
    "+ Lack of essential information like the location of the hospital as this would have been used in conjuction with the neighbourhood variable to ascertain if the distance was also a factor for no show.  \n",
    "\n",
    "+ Although the dataset did not have any missing values, it had some values that were either higher than the expected maximum value or lower than the expected minimum value, thus leading to an assumption that some of the collected entries were not so accurate.  \n",
    "\n",
    "+ Apart from the age and the newly created waiting period variables which were numerical, other variables were qualitative thus making it more difficult to truly interpret and perform statistical analysis on, compared to quantitative data which is easier to see trends and relationships."
   ]
  },
  {
   "cell_type": "code",
   "execution_count": 1,
   "metadata": {},
   "outputs": [
    {
     "data": {
      "text/plain": [
       "0"
      ]
     },
     "execution_count": 1,
     "metadata": {},
     "output_type": "execute_result"
    }
   ],
   "source": [
    "from subprocess import call\n",
    "call(['python', '-m', 'nbconvert', 'Investigate_a_Dataset.ipynb'])"
   ]
  }
 ],
 "metadata": {
  "kernelspec": {
   "display_name": "Python 3",
   "language": "python",
   "name": "python3"
  },
  "language_info": {
   "codemirror_mode": {
    "name": "ipython",
    "version": 3
   },
   "file_extension": ".py",
   "mimetype": "text/x-python",
   "name": "python",
   "nbconvert_exporter": "python",
   "pygments_lexer": "ipython3",
   "version": "3.6.3"
  }
 },
 "nbformat": 4,
 "nbformat_minor": 2
}
